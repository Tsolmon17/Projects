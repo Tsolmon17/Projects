{
 "cells": [
  {
   "cell_type": "markdown",
   "metadata": {},
   "source": [
    "# Lending Club Data - Predicting Loan Defaults"
   ]
  },
  {
   "cell_type": "code",
   "execution_count": 186,
   "metadata": {
    "collapsed": true
   },
   "outputs": [],
   "source": [
    "# importing necessary modules\n",
    "%matplotlib inline\n",
    "\n",
    "import pandas as pd\n",
    "import numpy as np\n",
    "import matplotlib.pyplot as plt\n",
    "import numpy as np\n",
    "import seaborn as sns\n",
    "from datetime import datetime"
   ]
  },
  {
   "cell_type": "code",
   "execution_count": 187,
   "metadata": {},
   "outputs": [
    {
     "name": "stderr",
     "output_type": "stream",
     "text": [
      "/anaconda3/lib/python3.6/site-packages/IPython/core/interactiveshell.py:2698: DtypeWarning: Columns (19,55) have mixed types. Specify dtype option on import or set low_memory=False.\n",
      "  interactivity=interactivity, compiler=compiler, result=result)\n"
     ]
    }
   ],
   "source": [
    "# load data\n",
    "df = pd.read_csv(\"../../../Documents/loan.csv\", index_col=0)"
   ]
  },
  {
   "cell_type": "code",
   "execution_count": 188,
   "metadata": {},
   "outputs": [
    {
     "data": {
      "text/html": [
       "<div>\n",
       "<style>\n",
       "    .dataframe thead tr:only-child th {\n",
       "        text-align: right;\n",
       "    }\n",
       "\n",
       "    .dataframe thead th {\n",
       "        text-align: left;\n",
       "    }\n",
       "\n",
       "    .dataframe tbody tr th {\n",
       "        vertical-align: top;\n",
       "    }\n",
       "</style>\n",
       "<table border=\"1\" class=\"dataframe\">\n",
       "  <thead>\n",
       "    <tr style=\"text-align: right;\">\n",
       "      <th></th>\n",
       "      <th>member_id</th>\n",
       "      <th>loan_amnt</th>\n",
       "      <th>funded_amnt</th>\n",
       "      <th>funded_amnt_inv</th>\n",
       "      <th>term</th>\n",
       "      <th>int_rate</th>\n",
       "      <th>installment</th>\n",
       "      <th>grade</th>\n",
       "      <th>sub_grade</th>\n",
       "      <th>emp_title</th>\n",
       "      <th>...</th>\n",
       "      <th>total_bal_il</th>\n",
       "      <th>il_util</th>\n",
       "      <th>open_rv_12m</th>\n",
       "      <th>open_rv_24m</th>\n",
       "      <th>max_bal_bc</th>\n",
       "      <th>all_util</th>\n",
       "      <th>total_rev_hi_lim</th>\n",
       "      <th>inq_fi</th>\n",
       "      <th>total_cu_tl</th>\n",
       "      <th>inq_last_12m</th>\n",
       "    </tr>\n",
       "    <tr>\n",
       "      <th>id</th>\n",
       "      <th></th>\n",
       "      <th></th>\n",
       "      <th></th>\n",
       "      <th></th>\n",
       "      <th></th>\n",
       "      <th></th>\n",
       "      <th></th>\n",
       "      <th></th>\n",
       "      <th></th>\n",
       "      <th></th>\n",
       "      <th></th>\n",
       "      <th></th>\n",
       "      <th></th>\n",
       "      <th></th>\n",
       "      <th></th>\n",
       "      <th></th>\n",
       "      <th></th>\n",
       "      <th></th>\n",
       "      <th></th>\n",
       "      <th></th>\n",
       "      <th></th>\n",
       "    </tr>\n",
       "  </thead>\n",
       "  <tbody>\n",
       "    <tr>\n",
       "      <th>1077501</th>\n",
       "      <td>1296599</td>\n",
       "      <td>5000.0</td>\n",
       "      <td>5000.0</td>\n",
       "      <td>4975.0</td>\n",
       "      <td>36 months</td>\n",
       "      <td>10.65</td>\n",
       "      <td>162.87</td>\n",
       "      <td>B</td>\n",
       "      <td>B2</td>\n",
       "      <td>NaN</td>\n",
       "      <td>...</td>\n",
       "      <td>NaN</td>\n",
       "      <td>NaN</td>\n",
       "      <td>NaN</td>\n",
       "      <td>NaN</td>\n",
       "      <td>NaN</td>\n",
       "      <td>NaN</td>\n",
       "      <td>NaN</td>\n",
       "      <td>NaN</td>\n",
       "      <td>NaN</td>\n",
       "      <td>NaN</td>\n",
       "    </tr>\n",
       "    <tr>\n",
       "      <th>1077430</th>\n",
       "      <td>1314167</td>\n",
       "      <td>2500.0</td>\n",
       "      <td>2500.0</td>\n",
       "      <td>2500.0</td>\n",
       "      <td>60 months</td>\n",
       "      <td>15.27</td>\n",
       "      <td>59.83</td>\n",
       "      <td>C</td>\n",
       "      <td>C4</td>\n",
       "      <td>Ryder</td>\n",
       "      <td>...</td>\n",
       "      <td>NaN</td>\n",
       "      <td>NaN</td>\n",
       "      <td>NaN</td>\n",
       "      <td>NaN</td>\n",
       "      <td>NaN</td>\n",
       "      <td>NaN</td>\n",
       "      <td>NaN</td>\n",
       "      <td>NaN</td>\n",
       "      <td>NaN</td>\n",
       "      <td>NaN</td>\n",
       "    </tr>\n",
       "    <tr>\n",
       "      <th>1077175</th>\n",
       "      <td>1313524</td>\n",
       "      <td>2400.0</td>\n",
       "      <td>2400.0</td>\n",
       "      <td>2400.0</td>\n",
       "      <td>36 months</td>\n",
       "      <td>15.96</td>\n",
       "      <td>84.33</td>\n",
       "      <td>C</td>\n",
       "      <td>C5</td>\n",
       "      <td>NaN</td>\n",
       "      <td>...</td>\n",
       "      <td>NaN</td>\n",
       "      <td>NaN</td>\n",
       "      <td>NaN</td>\n",
       "      <td>NaN</td>\n",
       "      <td>NaN</td>\n",
       "      <td>NaN</td>\n",
       "      <td>NaN</td>\n",
       "      <td>NaN</td>\n",
       "      <td>NaN</td>\n",
       "      <td>NaN</td>\n",
       "    </tr>\n",
       "    <tr>\n",
       "      <th>1076863</th>\n",
       "      <td>1277178</td>\n",
       "      <td>10000.0</td>\n",
       "      <td>10000.0</td>\n",
       "      <td>10000.0</td>\n",
       "      <td>36 months</td>\n",
       "      <td>13.49</td>\n",
       "      <td>339.31</td>\n",
       "      <td>C</td>\n",
       "      <td>C1</td>\n",
       "      <td>AIR RESOURCES BOARD</td>\n",
       "      <td>...</td>\n",
       "      <td>NaN</td>\n",
       "      <td>NaN</td>\n",
       "      <td>NaN</td>\n",
       "      <td>NaN</td>\n",
       "      <td>NaN</td>\n",
       "      <td>NaN</td>\n",
       "      <td>NaN</td>\n",
       "      <td>NaN</td>\n",
       "      <td>NaN</td>\n",
       "      <td>NaN</td>\n",
       "    </tr>\n",
       "    <tr>\n",
       "      <th>1075358</th>\n",
       "      <td>1311748</td>\n",
       "      <td>3000.0</td>\n",
       "      <td>3000.0</td>\n",
       "      <td>3000.0</td>\n",
       "      <td>60 months</td>\n",
       "      <td>12.69</td>\n",
       "      <td>67.79</td>\n",
       "      <td>B</td>\n",
       "      <td>B5</td>\n",
       "      <td>University Medical Group</td>\n",
       "      <td>...</td>\n",
       "      <td>NaN</td>\n",
       "      <td>NaN</td>\n",
       "      <td>NaN</td>\n",
       "      <td>NaN</td>\n",
       "      <td>NaN</td>\n",
       "      <td>NaN</td>\n",
       "      <td>NaN</td>\n",
       "      <td>NaN</td>\n",
       "      <td>NaN</td>\n",
       "      <td>NaN</td>\n",
       "    </tr>\n",
       "  </tbody>\n",
       "</table>\n",
       "<p>5 rows × 73 columns</p>\n",
       "</div>"
      ],
      "text/plain": [
       "         member_id  loan_amnt  funded_amnt  funded_amnt_inv        term  \\\n",
       "id                                                                        \n",
       "1077501    1296599     5000.0       5000.0           4975.0   36 months   \n",
       "1077430    1314167     2500.0       2500.0           2500.0   60 months   \n",
       "1077175    1313524     2400.0       2400.0           2400.0   36 months   \n",
       "1076863    1277178    10000.0      10000.0          10000.0   36 months   \n",
       "1075358    1311748     3000.0       3000.0           3000.0   60 months   \n",
       "\n",
       "         int_rate  installment grade sub_grade                 emp_title  \\\n",
       "id                                                                         \n",
       "1077501     10.65       162.87     B        B2                       NaN   \n",
       "1077430     15.27        59.83     C        C4                     Ryder   \n",
       "1077175     15.96        84.33     C        C5                       NaN   \n",
       "1076863     13.49       339.31     C        C1       AIR RESOURCES BOARD   \n",
       "1075358     12.69        67.79     B        B5  University Medical Group   \n",
       "\n",
       "            ...      total_bal_il il_util  open_rv_12m open_rv_24m max_bal_bc  \\\n",
       "id          ...                                                                 \n",
       "1077501     ...               NaN     NaN          NaN         NaN        NaN   \n",
       "1077430     ...               NaN     NaN          NaN         NaN        NaN   \n",
       "1077175     ...               NaN     NaN          NaN         NaN        NaN   \n",
       "1076863     ...               NaN     NaN          NaN         NaN        NaN   \n",
       "1075358     ...               NaN     NaN          NaN         NaN        NaN   \n",
       "\n",
       "        all_util total_rev_hi_lim inq_fi total_cu_tl inq_last_12m  \n",
       "id                                                                 \n",
       "1077501      NaN              NaN    NaN         NaN          NaN  \n",
       "1077430      NaN              NaN    NaN         NaN          NaN  \n",
       "1077175      NaN              NaN    NaN         NaN          NaN  \n",
       "1076863      NaN              NaN    NaN         NaN          NaN  \n",
       "1075358      NaN              NaN    NaN         NaN          NaN  \n",
       "\n",
       "[5 rows x 73 columns]"
      ]
     },
     "execution_count": 188,
     "metadata": {},
     "output_type": "execute_result"
    }
   ],
   "source": [
    "df.head()"
   ]
  },
  {
   "cell_type": "markdown",
   "metadata": {},
   "source": [
    "### Data Wrangling"
   ]
  },
  {
   "cell_type": "code",
   "execution_count": 189,
   "metadata": {},
   "outputs": [
    {
     "name": "stdout",
     "output_type": "stream",
     "text": [
      "<class 'pandas.core.frame.DataFrame'>\n",
      "Int64Index: 887379 entries, 1077501 to 36271262\n",
      "Data columns (total 73 columns):\n",
      "member_id                      887379 non-null int64\n",
      "loan_amnt                      887379 non-null float64\n",
      "funded_amnt                    887379 non-null float64\n",
      "funded_amnt_inv                887379 non-null float64\n",
      "term                           887379 non-null object\n",
      "int_rate                       887379 non-null float64\n",
      "installment                    887379 non-null float64\n",
      "grade                          887379 non-null object\n",
      "sub_grade                      887379 non-null object\n",
      "emp_title                      835922 non-null object\n",
      "emp_length                     887379 non-null object\n",
      "home_ownership                 887379 non-null object\n",
      "annual_inc                     887375 non-null float64\n",
      "verification_status            887379 non-null object\n",
      "issue_d                        887379 non-null object\n",
      "loan_status                    887379 non-null object\n",
      "pymnt_plan                     887379 non-null object\n",
      "url                            887379 non-null object\n",
      "desc                           126029 non-null object\n",
      "purpose                        887379 non-null object\n",
      "title                          887228 non-null object\n",
      "zip_code                       887379 non-null object\n",
      "addr_state                     887379 non-null object\n",
      "dti                            887379 non-null float64\n",
      "delinq_2yrs                    887350 non-null float64\n",
      "earliest_cr_line               887350 non-null object\n",
      "inq_last_6mths                 887350 non-null float64\n",
      "mths_since_last_delinq         433067 non-null float64\n",
      "mths_since_last_record         137053 non-null float64\n",
      "open_acc                       887350 non-null float64\n",
      "pub_rec                        887350 non-null float64\n",
      "revol_bal                      887379 non-null float64\n",
      "revol_util                     886877 non-null float64\n",
      "total_acc                      887350 non-null float64\n",
      "initial_list_status            887379 non-null object\n",
      "out_prncp                      887379 non-null float64\n",
      "out_prncp_inv                  887379 non-null float64\n",
      "total_pymnt                    887379 non-null float64\n",
      "total_pymnt_inv                887379 non-null float64\n",
      "total_rec_prncp                887379 non-null float64\n",
      "total_rec_int                  887379 non-null float64\n",
      "total_rec_late_fee             887379 non-null float64\n",
      "recoveries                     887379 non-null float64\n",
      "collection_recovery_fee        887379 non-null float64\n",
      "last_pymnt_d                   869720 non-null object\n",
      "last_pymnt_amnt                887379 non-null float64\n",
      "next_pymnt_d                   634408 non-null object\n",
      "last_credit_pull_d             887326 non-null object\n",
      "collections_12_mths_ex_med     887234 non-null float64\n",
      "mths_since_last_major_derog    221703 non-null float64\n",
      "policy_code                    887379 non-null float64\n",
      "application_type               887379 non-null object\n",
      "annual_inc_joint               511 non-null float64\n",
      "dti_joint                      509 non-null float64\n",
      "verification_status_joint      511 non-null object\n",
      "acc_now_delinq                 887350 non-null float64\n",
      "tot_coll_amt                   817103 non-null float64\n",
      "tot_cur_bal                    817103 non-null float64\n",
      "open_acc_6m                    21372 non-null float64\n",
      "open_il_6m                     21372 non-null float64\n",
      "open_il_12m                    21372 non-null float64\n",
      "open_il_24m                    21372 non-null float64\n",
      "mths_since_rcnt_il             20810 non-null float64\n",
      "total_bal_il                   21372 non-null float64\n",
      "il_util                        18617 non-null float64\n",
      "open_rv_12m                    21372 non-null float64\n",
      "open_rv_24m                    21372 non-null float64\n",
      "max_bal_bc                     21372 non-null float64\n",
      "all_util                       21372 non-null float64\n",
      "total_rev_hi_lim               817103 non-null float64\n",
      "inq_fi                         21372 non-null float64\n",
      "total_cu_tl                    21372 non-null float64\n",
      "inq_last_12m                   21372 non-null float64\n",
      "dtypes: float64(49), int64(1), object(23)\n",
      "memory usage: 501.0+ MB\n"
     ]
    }
   ],
   "source": [
    "df.info()"
   ]
  },
  {
   "cell_type": "code",
   "execution_count": 190,
   "metadata": {},
   "outputs": [],
   "source": [
    "# removing months from term\n",
    "df.term = df.term.str.replace('months', '')"
   ]
  },
  {
   "cell_type": "code",
   "execution_count": 191,
   "metadata": {},
   "outputs": [
    {
     "data": {
      "text/plain": [
       "id\n",
       "1077501     36 \n",
       "1077430     60 \n",
       "1077175     36 \n",
       "1076863     36 \n",
       "1075358     60 \n",
       "Name: term, dtype: object"
      ]
     },
     "execution_count": 191,
     "metadata": {},
     "output_type": "execute_result"
    }
   ],
   "source": [
    "df.term.head()"
   ]
  },
  {
   "cell_type": "code",
   "execution_count": 192,
   "metadata": {
    "collapsed": true
   },
   "outputs": [],
   "source": [
    "# changing into int type\n",
    "df.term = df.term.astype(int)"
   ]
  },
  {
   "cell_type": "code",
   "execution_count": 193,
   "metadata": {},
   "outputs": [
    {
     "data": {
      "text/plain": [
       "B    254535\n",
       "C    245860\n",
       "A    148202\n",
       "D    139542\n",
       "E     70705\n",
       "F     23046\n",
       "G      5489\n",
       "Name: grade, dtype: int64"
      ]
     },
     "execution_count": 193,
     "metadata": {},
     "output_type": "execute_result"
    }
   ],
   "source": [
    "df.grade.value_counts()"
   ]
  },
  {
   "cell_type": "code",
   "execution_count": 194,
   "metadata": {},
   "outputs": [
    {
     "data": {
      "text/plain": [
       "5    254535\n",
       "4    245860\n",
       "6    148202\n",
       "3    139542\n",
       "2     70705\n",
       "1     23046\n",
       "0      5489\n",
       "Name: grade, dtype: int64"
      ]
     },
     "execution_count": 194,
     "metadata": {},
     "output_type": "execute_result"
    }
   ],
   "source": [
    "# changing into numerical data type\n",
    "df.grade.replace(['A', 'B', 'C', 'D', 'E', 'F', 'G'], [6, 5, 4, 3, 2, 1, 0], inplace=True)\n",
    "df.grade.value_counts()"
   ]
  },
  {
   "cell_type": "code",
   "execution_count": 195,
   "metadata": {},
   "outputs": [],
   "source": [
    "# changing into categorical type\n",
    "df.grade = df.grade.astype('category')"
   ]
  },
  {
   "cell_type": "code",
   "execution_count": 196,
   "metadata": {},
   "outputs": [
    {
     "data": {
      "text/plain": [
       "B3    56323\n",
       "B4    55626\n",
       "C1    53387\n",
       "C2    52236\n",
       "C3    50161\n",
       "C4    48857\n",
       "B5    48833\n",
       "B2    48781\n",
       "B1    44972\n",
       "A5    44816\n",
       "C5    41219\n",
       "D1    36238\n",
       "A4    34531\n",
       "D2    29803\n",
       "D3    26554\n",
       "D4    25558\n",
       "A3    23457\n",
       "A1    22913\n",
       "A2    22485\n",
       "D5    21389\n",
       "E1    18268\n",
       "E2    17004\n",
       "E3    14134\n",
       "E4    11724\n",
       "E5     9575\n",
       "F1     7218\n",
       "F2     5392\n",
       "F3     4433\n",
       "F4     3409\n",
       "F5     2594\n",
       "G1     1871\n",
       "G2     1398\n",
       "G3      981\n",
       "G4      663\n",
       "G5      576\n",
       "Name: sub_grade, dtype: int64"
      ]
     },
     "execution_count": 196,
     "metadata": {},
     "output_type": "execute_result"
    }
   ],
   "source": [
    "df.sub_grade.value_counts()"
   ]
  },
  {
   "cell_type": "code",
   "execution_count": 197,
   "metadata": {},
   "outputs": [],
   "source": [
    "# changing into numerical data type\n",
    "df.sub_grade.replace(['A1','A2','A3','A4','A5',\n",
    "                      'B1','B2','B3','B4','B5',\n",
    "                      'C1','C2','C3','C4','C5',\n",
    "                      'D1','D2','D3','D4','D5',\n",
    "                      'E1','E2','E3','E4','E5',\n",
    "                      'F1','F2','F3','F4','F5',\n",
    "                      'G1','G2','G3','G4','G5'],\n",
    "                     range(1,36), inplace=True)\n",
    "\n",
    "# changing into categorical type\n",
    "df.sub_grade = df.sub_grade.astype('category')"
   ]
  },
  {
   "cell_type": "code",
   "execution_count": 198,
   "metadata": {},
   "outputs": [
    {
     "data": {
      "text/plain": [
       "8     56323\n",
       "9     55626\n",
       "11    53387\n",
       "12    52236\n",
       "13    50161\n",
       "14    48857\n",
       "10    48833\n",
       "7     48781\n",
       "6     44972\n",
       "5     44816\n",
       "15    41219\n",
       "16    36238\n",
       "4     34531\n",
       "17    29803\n",
       "18    26554\n",
       "19    25558\n",
       "3     23457\n",
       "1     22913\n",
       "2     22485\n",
       "20    21389\n",
       "21    18268\n",
       "22    17004\n",
       "23    14134\n",
       "24    11724\n",
       "25     9575\n",
       "26     7218\n",
       "27     5392\n",
       "28     4433\n",
       "29     3409\n",
       "30     2594\n",
       "31     1871\n",
       "32     1398\n",
       "33      981\n",
       "34      663\n",
       "35      576\n",
       "Name: sub_grade, dtype: int64"
      ]
     },
     "execution_count": 198,
     "metadata": {},
     "output_type": "execute_result"
    }
   ],
   "source": [
    "df.sub_grade.value_counts()"
   ]
  },
  {
   "cell_type": "code",
   "execution_count": 199,
   "metadata": {},
   "outputs": [
    {
     "data": {
      "image/png": "[encoded data removed]",
      "text/plain": [
       "<matplotlib.figure.Figure at 0x1ad6786748>"
      ]
     },
     "metadata": {},
     "output_type": "display_data"
    }
   ],
   "source": [
    "sns.set()\n",
    "df.grade.hist(bins=7, edgecolor='w')\n",
    "plt.xticks(range(0,6), ['G','F','E','D','C','B','A'])\n",
    "plt.title('Loans by Credit Grade')\n",
    "plt.xlabel('Grade')\n",
    "plt.ylabel('Count')\n",
    "plt.show()"
   ]
  },
  {
   "cell_type": "code",
   "execution_count": 200,
   "metadata": {},
   "outputs": [
    {
     "data": {
      "text/plain": [
       "10+ years    291569\n",
       "2 years       78870\n",
       "< 1 year      70605\n",
       "3 years       70026\n",
       "1 year        57095\n",
       "5 years       55704\n",
       "4 years       52529\n",
       "n/a           44825\n",
       "7 years       44594\n",
       "8 years       43955\n",
       "6 years       42950\n",
       "9 years       34657\n",
       "Name: emp_length, dtype: int64"
      ]
     },
     "execution_count": 200,
     "metadata": {},
     "output_type": "execute_result"
    }
   ],
   "source": [
    "df.emp_length.value_counts()"
   ]
  },
  {
   "cell_type": "code",
   "execution_count": 201,
   "metadata": {},
   "outputs": [],
   "source": [
    "df.emp_length.replace(['10+ years', '2 years', '< 1 year', '3 years', '1 year',\n",
    "                      '5 years', '4 years', '', '7 years', '8 years', '6 years', '9 years'], \n",
    "                      [10, 2, 0, 3, 1, 5, 4, 0, 7, 8, 6, 9], inplace=True)"
   ]
  },
  {
   "cell_type": "code",
   "execution_count": 224,
   "metadata": {},
   "outputs": [
    {
     "data": {
      "text/plain": [
       "10     77726\n",
       "2      23996\n",
       "0      21447\n",
       "3      20750\n",
       "5      18308\n",
       "1      17299\n",
       "4      16468\n",
       "6      14960\n",
       "7      14256\n",
       "8      12029\n",
       "n/a    10002\n",
       "9       9698\n",
       "Name: emp_length, dtype: int64"
      ]
     },
     "execution_count": 224,
     "metadata": {},
     "output_type": "execute_result"
    }
   ],
   "source": [
    "df.emp_length = df.emp_length.astype('category')\n",
    "df.emp_length.value_counts()"
   ]
  },
  {
   "cell_type": "code",
   "execution_count": 203,
   "metadata": {},
   "outputs": [
    {
     "data": {
      "text/plain": [
       "MORTGAGE    443557\n",
       "RENT        356117\n",
       "OWN          87470\n",
       "OTHER          182\n",
       "NONE            50\n",
       "ANY              3\n",
       "Name: home_ownership, dtype: int64"
      ]
     },
     "execution_count": 203,
     "metadata": {},
     "output_type": "execute_result"
    }
   ],
   "source": [
    "df.home_ownership.value_counts()"
   ]
  },
  {
   "cell_type": "code",
   "execution_count": 204,
   "metadata": {},
   "outputs": [],
   "source": [
    "df.home_ownership.replace(['OWN', 'MORTGAGE', 'RENT', 'OTHER', 'NONE', 'ANY'], [3,2,1,0,0,0], inplace=True)\n",
    "df.home_ownership = df.home_ownership.astype('category')"
   ]
  },
  {
   "cell_type": "code",
   "execution_count": 205,
   "metadata": {},
   "outputs": [
    {
     "data": {
      "text/plain": [
       "2    443557\n",
       "1    356117\n",
       "3     87470\n",
       "0       235\n",
       "Name: home_ownership, dtype: int64"
      ]
     },
     "execution_count": 205,
     "metadata": {},
     "output_type": "execute_result"
    }
   ],
   "source": [
    "df.home_ownership.value_counts()"
   ]
  },
  {
   "cell_type": "code",
   "execution_count": 206,
   "metadata": {},
   "outputs": [
    {
     "data": {
      "image/png": "[encoded data removed]",
      "text/plain": [
       "<matplotlib.figure.Figure at 0x1af0ad4128>"
      ]
     },
     "metadata": {},
     "output_type": "display_data"
    }
   ],
   "source": [
    "sns.set()\n",
    "df.home_ownership.hist(bins=4, edgecolor='w')\n",
    "plt.xlabel('Home Ownership')\n",
    "plt.ylabel('Count')\n",
    "plt.xticks([0,1,2,3], ['OTHER','RENT','MORTGAGE','OWN'])\n",
    "plt.show()"
   ]
  },
  {
   "cell_type": "code",
   "execution_count": 207,
   "metadata": {},
   "outputs": [
    {
     "data": {
      "text/plain": [
       "Source Verified    329558\n",
       "Verified           291071\n",
       "Not Verified       266750\n",
       "Name: verification_status, dtype: int64"
      ]
     },
     "execution_count": 207,
     "metadata": {},
     "output_type": "execute_result"
    }
   ],
   "source": [
    "df.verification_status.value_counts()"
   ]
  },
  {
   "cell_type": "code",
   "execution_count": 208,
   "metadata": {
    "collapsed": true
   },
   "outputs": [],
   "source": [
    "df.verification_status.replace(['Source Verified', 'Verified', 'Not Verified'], [1,1,0], inplace=True)\n",
    "df.verification_status = df.verification_status.astype('category')"
   ]
  },
  {
   "cell_type": "code",
   "execution_count": 209,
   "metadata": {},
   "outputs": [
    {
     "data": {
      "text/plain": [
       "1    620629\n",
       "0    266750\n",
       "Name: verification_status, dtype: int64"
      ]
     },
     "execution_count": 209,
     "metadata": {},
     "output_type": "execute_result"
    }
   ],
   "source": [
    "df.verification_status.value_counts()"
   ]
  },
  {
   "cell_type": "code",
   "execution_count": 212,
   "metadata": {},
   "outputs": [],
   "source": [
    "df.issue_d = pd.to_datetime(df.issue_d)"
   ]
  },
  {
   "cell_type": "code",
   "execution_count": 213,
   "metadata": {},
   "outputs": [
    {
     "data": {
      "text/plain": [
       "id\n",
       "1077501   2011-12-01\n",
       "1077430   2011-12-01\n",
       "1077175   2011-12-01\n",
       "1076863   2011-12-01\n",
       "1075358   2011-12-01\n",
       "Name: issue_d, dtype: datetime64[ns]"
      ]
     },
     "execution_count": 213,
     "metadata": {},
     "output_type": "execute_result"
    }
   ],
   "source": [
    "df.issue_d.head()"
   ]
  },
  {
   "cell_type": "code",
   "execution_count": 214,
   "metadata": {},
   "outputs": [
    {
     "data": {
      "text/plain": [
       "Current                                                601779\n",
       "Fully Paid                                             207723\n",
       "Charged Off                                             45248\n",
       "Late (31-120 days)                                      11591\n",
       "Issued                                                   8460\n",
       "In Grace Period                                          6253\n",
       "Late (16-30 days)                                        2357\n",
       "Does not meet the credit policy. Status:Fully Paid       1988\n",
       "Default                                                  1219\n",
       "Does not meet the credit policy. Status:Charged Off       761\n",
       "Name: loan_status, dtype: int64"
      ]
     },
     "execution_count": 214,
     "metadata": {},
     "output_type": "execute_result"
    }
   ],
   "source": [
    "df.loan_status.value_counts()"
   ]
  },
  {
   "cell_type": "code",
   "execution_count": 215,
   "metadata": {},
   "outputs": [],
   "source": [
    "# selecting and encoding fully paid and defaulted loans only\n",
    "df.loan_status.replace(['Fully Paid', 'Does not meet the credit policy. Status:Fully Paid', 'Charged Off', \n",
    "                        'Default', 'Does not meet the credit policy. Status:Charged Off'], [0, 0, 1, 1, 1],\n",
    "                       inplace=True)"
   ]
  },
  {
   "cell_type": "code",
   "execution_count": 216,
   "metadata": {},
   "outputs": [],
   "source": [
    "# dropping loans that are still active and not mature yet\n",
    "df = df.loc[df['loan_status'].isin([0, 1])]"
   ]
  },
  {
   "cell_type": "code",
   "execution_count": 239,
   "metadata": {},
   "outputs": [
    {
     "data": {
      "text/plain": [
       "0    209711\n",
       "1     47228\n",
       "Name: loan_status, dtype: int64"
      ]
     },
     "execution_count": 239,
     "metadata": {},
     "output_type": "execute_result"
    }
   ],
   "source": [
    "df.loan_status = df.loan_status.astype('category')\n",
    "df.loan_status.value_counts()"
   ]
  },
  {
   "cell_type": "markdown",
   "metadata": {},
   "source": [
    "**Created two classes:**\n",
    "* 0: Paid in Full\n",
    "* 1: Defaulted"
   ]
  },
  {
   "cell_type": "code",
   "execution_count": 218,
   "metadata": {},
   "outputs": [
    {
     "data": {
      "text/plain": [
       "n    256937\n",
       "y         2\n",
       "Name: pymnt_plan, dtype: int64"
      ]
     },
     "execution_count": 218,
     "metadata": {},
     "output_type": "execute_result"
    }
   ],
   "source": [
    "df.pymnt_plan.value_counts()"
   ]
  },
  {
   "cell_type": "code",
   "execution_count": 219,
   "metadata": {},
   "outputs": [
    {
     "data": {
      "text/plain": [
       "0    256937\n",
       "1         2\n",
       "Name: pymnt_plan, dtype: int64"
      ]
     },
     "execution_count": 219,
     "metadata": {},
     "output_type": "execute_result"
    }
   ],
   "source": [
    "df.pymnt_plan.replace(['n', 'y'], [0, 1], inplace=True)\n",
    "df.pymnt_plan = df.pymnt_plan.astype('category')\n",
    "df.pymnt_plan.value_counts()"
   ]
  },
  {
   "cell_type": "code",
   "execution_count": 220,
   "metadata": {},
   "outputs": [],
   "source": [
    "# dropping columns that are not useful\n",
    "df = df.drop(['url', 'initial_list_status', 'last_credit_pull_d', 'policy_code', 'zip_code', 'addr_state'], axis=1)"
   ]
  },
  {
   "cell_type": "code",
   "execution_count": 226,
   "metadata": {},
   "outputs": [],
   "source": [
    "df = df.drop(['issue_d'], axis=1)"
   ]
  },
  {
   "cell_type": "code",
   "execution_count": 228,
   "metadata": {
    "collapsed": true
   },
   "outputs": [],
   "source": [
    "df = df.drop(['title', 'desc'], axis=1)"
   ]
  },
  {
   "cell_type": "code",
   "execution_count": 231,
   "metadata": {},
   "outputs": [],
   "source": [
    "df = df.drop(['emp_title', 'next_pymnt_d', 'last_pymnt_d', 'annual_inc_joint', 'dti_joint',\n",
    "              'verification_status_joint'], axis=1)"
   ]
  },
  {
   "cell_type": "code",
   "execution_count": 233,
   "metadata": {
    "collapsed": true
   },
   "outputs": [],
   "source": [
    "df = df.drop(['member_id'], axis=1)"
   ]
  },
  {
   "cell_type": "code",
   "execution_count": 235,
   "metadata": {},
   "outputs": [
    {
     "data": {
      "text/plain": [
       "debt_consolidation    150253\n",
       "credit_card            50649\n",
       "home_improvement       15190\n",
       "other                  14766\n",
       "major_purchase          6402\n",
       "small_business          4926\n",
       "car                     3720\n",
       "medical                 2927\n",
       "moving                  2085\n",
       "wedding                 2011\n",
       "house                   1703\n",
       "vacation                1615\n",
       "educational              422\n",
       "renewable_energy         270\n",
       "Name: purpose, dtype: int64"
      ]
     },
     "execution_count": 235,
     "metadata": {},
     "output_type": "execute_result"
    }
   ],
   "source": [
    "df.purpose.value_counts()"
   ]
  },
  {
   "cell_type": "code",
   "execution_count": 237,
   "metadata": {
    "collapsed": true
   },
   "outputs": [],
   "source": [
    "df = df.drop(['purpose', 'application_type'], axis=1)"
   ]
  },
  {
   "cell_type": "code",
   "execution_count": 241,
   "metadata": {},
   "outputs": [
    {
     "data": {
      "text/plain": [
       "id\n",
       "1077501    Jan-1985\n",
       "1077430    Apr-1999\n",
       "1077175    Nov-2001\n",
       "1076863    Feb-1996\n",
       "1075269    Nov-2004\n",
       "Name: earliest_cr_line, dtype: object"
      ]
     },
     "execution_count": 241,
     "metadata": {},
     "output_type": "execute_result"
    }
   ],
   "source": [
    "df.earliest_cr_line.head()"
   ]
  },
  {
   "cell_type": "code",
   "execution_count": 242,
   "metadata": {
    "collapsed": true
   },
   "outputs": [],
   "source": [
    "df.earliest_cr_line = pd.to_datetime(df.earliest_cr_line)"
   ]
  },
  {
   "cell_type": "code",
   "execution_count": null,
   "metadata": {
    "collapsed": true
   },
   "outputs": [],
   "source": []
  },
  {
   "cell_type": "code",
   "execution_count": 243,
   "metadata": {},
   "outputs": [
    {
     "name": "stdout",
     "output_type": "stream",
     "text": [
      "<class 'pandas.core.frame.DataFrame'>\n",
      "Int64Index: 256939 entries, 1077501 to 36260758\n",
      "Data columns (total 55 columns):\n",
      "loan_amnt                      256939 non-null float64\n",
      "funded_amnt                    256939 non-null float64\n",
      "funded_amnt_inv                256939 non-null float64\n",
      "term                           256939 non-null int64\n",
      "int_rate                       256939 non-null float64\n",
      "installment                    256939 non-null float64\n",
      "grade                          256939 non-null category\n",
      "sub_grade                      256939 non-null category\n",
      "emp_length                     256939 non-null category\n",
      "home_ownership                 256939 non-null category\n",
      "annual_inc                     256935 non-null float64\n",
      "verification_status            256939 non-null category\n",
      "loan_status                    256939 non-null category\n",
      "pymnt_plan                     256939 non-null category\n",
      "dti                            256939 non-null float64\n",
      "delinq_2yrs                    256910 non-null float64\n",
      "earliest_cr_line               256910 non-null datetime64[ns]\n",
      "inq_last_6mths                 256910 non-null float64\n",
      "mths_since_last_delinq         114294 non-null float64\n",
      "mths_since_last_record         32674 non-null float64\n",
      "open_acc                       256910 non-null float64\n",
      "pub_rec                        256910 non-null float64\n",
      "revol_bal                      256939 non-null float64\n",
      "revol_util                     256699 non-null float64\n",
      "total_acc                      256910 non-null float64\n",
      "out_prncp                      256939 non-null float64\n",
      "out_prncp_inv                  256939 non-null float64\n",
      "total_pymnt                    256939 non-null float64\n",
      "total_pymnt_inv                256939 non-null float64\n",
      "total_rec_prncp                256939 non-null float64\n",
      "total_rec_int                  256939 non-null float64\n",
      "total_rec_late_fee             256939 non-null float64\n",
      "recoveries                     256939 non-null float64\n",
      "collection_recovery_fee        256939 non-null float64\n",
      "last_pymnt_amnt                256939 non-null float64\n",
      "collections_12_mths_ex_med     256794 non-null float64\n",
      "mths_since_last_major_derog    47876 non-null float64\n",
      "acc_now_delinq                 256910 non-null float64\n",
      "tot_coll_amt                   190464 non-null float64\n",
      "tot_cur_bal                    190464 non-null float64\n",
      "open_acc_6m                    144 non-null float64\n",
      "open_il_6m                     144 non-null float64\n",
      "open_il_12m                    144 non-null float64\n",
      "open_il_24m                    144 non-null float64\n",
      "mths_since_rcnt_il             140 non-null float64\n",
      "total_bal_il                   144 non-null float64\n",
      "il_util                        126 non-null float64\n",
      "open_rv_12m                    144 non-null float64\n",
      "open_rv_24m                    144 non-null float64\n",
      "max_bal_bc                     144 non-null float64\n",
      "all_util                       144 non-null float64\n",
      "total_rev_hi_lim               190464 non-null float64\n",
      "inq_fi                         144 non-null float64\n",
      "total_cu_tl                    144 non-null float64\n",
      "inq_last_12m                   144 non-null float64\n",
      "dtypes: category(7), datetime64[ns](1), float64(46), int64(1)\n",
      "memory usage: 107.8 MB\n"
     ]
    }
   ],
   "source": [
    "df.info()"
   ]
  },
  {
   "cell_type": "code",
   "execution_count": 244,
   "metadata": {},
   "outputs": [
    {
     "data": {
      "text/html": [
       "<div>\n",
       "<style>\n",
       "    .dataframe thead tr:only-child th {\n",
       "        text-align: right;\n",
       "    }\n",
       "\n",
       "    .dataframe thead th {\n",
       "        text-align: left;\n",
       "    }\n",
       "\n",
       "    .dataframe tbody tr th {\n",
       "        vertical-align: top;\n",
       "    }\n",
       "</style>\n",
       "<table border=\"1\" class=\"dataframe\">\n",
       "  <thead>\n",
       "    <tr style=\"text-align: right;\">\n",
       "      <th></th>\n",
       "      <th>loan_amnt</th>\n",
       "      <th>funded_amnt</th>\n",
       "      <th>funded_amnt_inv</th>\n",
       "      <th>term</th>\n",
       "      <th>int_rate</th>\n",
       "      <th>installment</th>\n",
       "      <th>grade</th>\n",
       "      <th>sub_grade</th>\n",
       "      <th>emp_length</th>\n",
       "      <th>home_ownership</th>\n",
       "      <th>...</th>\n",
       "      <th>total_bal_il</th>\n",
       "      <th>il_util</th>\n",
       "      <th>open_rv_12m</th>\n",
       "      <th>open_rv_24m</th>\n",
       "      <th>max_bal_bc</th>\n",
       "      <th>all_util</th>\n",
       "      <th>total_rev_hi_lim</th>\n",
       "      <th>inq_fi</th>\n",
       "      <th>total_cu_tl</th>\n",
       "      <th>inq_last_12m</th>\n",
       "    </tr>\n",
       "    <tr>\n",
       "      <th>id</th>\n",
       "      <th></th>\n",
       "      <th></th>\n",
       "      <th></th>\n",
       "      <th></th>\n",
       "      <th></th>\n",
       "      <th></th>\n",
       "      <th></th>\n",
       "      <th></th>\n",
       "      <th></th>\n",
       "      <th></th>\n",
       "      <th></th>\n",
       "      <th></th>\n",
       "      <th></th>\n",
       "      <th></th>\n",
       "      <th></th>\n",
       "      <th></th>\n",
       "      <th></th>\n",
       "      <th></th>\n",
       "      <th></th>\n",
       "      <th></th>\n",
       "      <th></th>\n",
       "    </tr>\n",
       "  </thead>\n",
       "  <tbody>\n",
       "    <tr>\n",
       "      <th>1077501</th>\n",
       "      <td>5000.0</td>\n",
       "      <td>5000.0</td>\n",
       "      <td>4975.0</td>\n",
       "      <td>36</td>\n",
       "      <td>10.65</td>\n",
       "      <td>162.87</td>\n",
       "      <td>5</td>\n",
       "      <td>7</td>\n",
       "      <td>10</td>\n",
       "      <td>1</td>\n",
       "      <td>...</td>\n",
       "      <td>NaN</td>\n",
       "      <td>NaN</td>\n",
       "      <td>NaN</td>\n",
       "      <td>NaN</td>\n",
       "      <td>NaN</td>\n",
       "      <td>NaN</td>\n",
       "      <td>NaN</td>\n",
       "      <td>NaN</td>\n",
       "      <td>NaN</td>\n",
       "      <td>NaN</td>\n",
       "    </tr>\n",
       "    <tr>\n",
       "      <th>1077430</th>\n",
       "      <td>2500.0</td>\n",
       "      <td>2500.0</td>\n",
       "      <td>2500.0</td>\n",
       "      <td>60</td>\n",
       "      <td>15.27</td>\n",
       "      <td>59.83</td>\n",
       "      <td>4</td>\n",
       "      <td>14</td>\n",
       "      <td>0</td>\n",
       "      <td>1</td>\n",
       "      <td>...</td>\n",
       "      <td>NaN</td>\n",
       "      <td>NaN</td>\n",
       "      <td>NaN</td>\n",
       "      <td>NaN</td>\n",
       "      <td>NaN</td>\n",
       "      <td>NaN</td>\n",
       "      <td>NaN</td>\n",
       "      <td>NaN</td>\n",
       "      <td>NaN</td>\n",
       "      <td>NaN</td>\n",
       "    </tr>\n",
       "    <tr>\n",
       "      <th>1077175</th>\n",
       "      <td>2400.0</td>\n",
       "      <td>2400.0</td>\n",
       "      <td>2400.0</td>\n",
       "      <td>36</td>\n",
       "      <td>15.96</td>\n",
       "      <td>84.33</td>\n",
       "      <td>4</td>\n",
       "      <td>15</td>\n",
       "      <td>10</td>\n",
       "      <td>1</td>\n",
       "      <td>...</td>\n",
       "      <td>NaN</td>\n",
       "      <td>NaN</td>\n",
       "      <td>NaN</td>\n",
       "      <td>NaN</td>\n",
       "      <td>NaN</td>\n",
       "      <td>NaN</td>\n",
       "      <td>NaN</td>\n",
       "      <td>NaN</td>\n",
       "      <td>NaN</td>\n",
       "      <td>NaN</td>\n",
       "    </tr>\n",
       "    <tr>\n",
       "      <th>1076863</th>\n",
       "      <td>10000.0</td>\n",
       "      <td>10000.0</td>\n",
       "      <td>10000.0</td>\n",
       "      <td>36</td>\n",
       "      <td>13.49</td>\n",
       "      <td>339.31</td>\n",
       "      <td>4</td>\n",
       "      <td>11</td>\n",
       "      <td>10</td>\n",
       "      <td>1</td>\n",
       "      <td>...</td>\n",
       "      <td>NaN</td>\n",
       "      <td>NaN</td>\n",
       "      <td>NaN</td>\n",
       "      <td>NaN</td>\n",
       "      <td>NaN</td>\n",
       "      <td>NaN</td>\n",
       "      <td>NaN</td>\n",
       "      <td>NaN</td>\n",
       "      <td>NaN</td>\n",
       "      <td>NaN</td>\n",
       "    </tr>\n",
       "    <tr>\n",
       "      <th>1075269</th>\n",
       "      <td>5000.0</td>\n",
       "      <td>5000.0</td>\n",
       "      <td>5000.0</td>\n",
       "      <td>36</td>\n",
       "      <td>7.90</td>\n",
       "      <td>156.46</td>\n",
       "      <td>6</td>\n",
       "      <td>4</td>\n",
       "      <td>3</td>\n",
       "      <td>1</td>\n",
       "      <td>...</td>\n",
       "      <td>NaN</td>\n",
       "      <td>NaN</td>\n",
       "      <td>NaN</td>\n",
       "      <td>NaN</td>\n",
       "      <td>NaN</td>\n",
       "      <td>NaN</td>\n",
       "      <td>NaN</td>\n",
       "      <td>NaN</td>\n",
       "      <td>NaN</td>\n",
       "      <td>NaN</td>\n",
       "    </tr>\n",
       "  </tbody>\n",
       "</table>\n",
       "<p>5 rows × 55 columns</p>\n",
       "</div>"
      ],
      "text/plain": [
       "         loan_amnt  funded_amnt  funded_amnt_inv  term  int_rate  installment  \\\n",
       "id                                                                              \n",
       "1077501     5000.0       5000.0           4975.0    36     10.65       162.87   \n",
       "1077430     2500.0       2500.0           2500.0    60     15.27        59.83   \n",
       "1077175     2400.0       2400.0           2400.0    36     15.96        84.33   \n",
       "1076863    10000.0      10000.0          10000.0    36     13.49       339.31   \n",
       "1075269     5000.0       5000.0           5000.0    36      7.90       156.46   \n",
       "\n",
       "        grade sub_grade emp_length home_ownership      ...       total_bal_il  \\\n",
       "id                                                     ...                      \n",
       "1077501     5         7         10              1      ...                NaN   \n",
       "1077430     4        14          0              1      ...                NaN   \n",
       "1077175     4        15         10              1      ...                NaN   \n",
       "1076863     4        11         10              1      ...                NaN   \n",
       "1075269     6         4          3              1      ...                NaN   \n",
       "\n",
       "        il_util open_rv_12m open_rv_24m  max_bal_bc  all_util  \\\n",
       "id                                                              \n",
       "1077501     NaN         NaN         NaN         NaN       NaN   \n",
       "1077430     NaN         NaN         NaN         NaN       NaN   \n",
       "1077175     NaN         NaN         NaN         NaN       NaN   \n",
       "1076863     NaN         NaN         NaN         NaN       NaN   \n",
       "1075269     NaN         NaN         NaN         NaN       NaN   \n",
       "\n",
       "        total_rev_hi_lim  inq_fi  total_cu_tl  inq_last_12m  \n",
       "id                                                           \n",
       "1077501              NaN     NaN          NaN           NaN  \n",
       "1077430              NaN     NaN          NaN           NaN  \n",
       "1077175              NaN     NaN          NaN           NaN  \n",
       "1076863              NaN     NaN          NaN           NaN  \n",
       "1075269              NaN     NaN          NaN           NaN  \n",
       "\n",
       "[5 rows x 55 columns]"
      ]
     },
     "execution_count": 244,
     "metadata": {},
     "output_type": "execute_result"
    }
   ],
   "source": [
    "df.head()"
   ]
  },
  {
   "cell_type": "code",
   "execution_count": 249,
   "metadata": {},
   "outputs": [
    {
     "data": {
      "text/plain": [
       "1914"
      ]
     },
     "execution_count": 249,
     "metadata": {},
     "output_type": "execute_result"
    }
   ],
   "source": [
    "sum(df.loan_amnt != df.funded_amnt)"
   ]
  },
  {
   "cell_type": "code",
   "execution_count": 250,
   "metadata": {},
   "outputs": [
    {
     "data": {
      "text/plain": [
       "46553"
      ]
     },
     "execution_count": 250,
     "metadata": {},
     "output_type": "execute_result"
    }
   ],
   "source": [
    "sum(df.funded_amnt != df.funded_amnt_inv)"
   ]
  },
  {
   "cell_type": "code",
   "execution_count": 251,
   "metadata": {},
   "outputs": [
    {
     "data": {
      "text/plain": [
       "30665038.139082015"
      ]
     },
     "execution_count": 251,
     "metadata": {},
     "output_type": "execute_result"
    }
   ],
   "source": [
    "sum(df.funded_amnt - df.funded_amnt_inv)"
   ]
  },
  {
   "cell_type": "code",
   "execution_count": 252,
   "metadata": {},
   "outputs": [
    {
     "data": {
      "text/plain": [
       "10822350.0"
      ]
     },
     "execution_count": 252,
     "metadata": {},
     "output_type": "execute_result"
    }
   ],
   "source": [
    "sum(df.loan_amnt - df.funded_amnt)"
   ]
  },
  {
   "cell_type": "code",
   "execution_count": 253,
   "metadata": {},
   "outputs": [
    {
     "data": {
      "text/html": [
       "<div>\n",
       "<style>\n",
       "    .dataframe thead tr:only-child th {\n",
       "        text-align: right;\n",
       "    }\n",
       "\n",
       "    .dataframe thead th {\n",
       "        text-align: left;\n",
       "    }\n",
       "\n",
       "    .dataframe tbody tr th {\n",
       "        vertical-align: top;\n",
       "    }\n",
       "</style>\n",
       "<table border=\"1\" class=\"dataframe\">\n",
       "  <thead>\n",
       "    <tr style=\"text-align: right;\">\n",
       "      <th></th>\n",
       "      <th>loan_amnt</th>\n",
       "      <th>funded_amnt</th>\n",
       "      <th>funded_amnt_inv</th>\n",
       "      <th>term</th>\n",
       "      <th>int_rate</th>\n",
       "      <th>installment</th>\n",
       "      <th>annual_inc</th>\n",
       "      <th>dti</th>\n",
       "      <th>delinq_2yrs</th>\n",
       "      <th>inq_last_6mths</th>\n",
       "      <th>...</th>\n",
       "      <th>total_bal_il</th>\n",
       "      <th>il_util</th>\n",
       "      <th>open_rv_12m</th>\n",
       "      <th>open_rv_24m</th>\n",
       "      <th>max_bal_bc</th>\n",
       "      <th>all_util</th>\n",
       "      <th>total_rev_hi_lim</th>\n",
       "      <th>inq_fi</th>\n",
       "      <th>total_cu_tl</th>\n",
       "      <th>inq_last_12m</th>\n",
       "    </tr>\n",
       "  </thead>\n",
       "  <tbody>\n",
       "    <tr>\n",
       "      <th>count</th>\n",
       "      <td>256939.000000</td>\n",
       "      <td>256939.000000</td>\n",
       "      <td>256939.000000</td>\n",
       "      <td>256939.000000</td>\n",
       "      <td>256939.000000</td>\n",
       "      <td>256939.000000</td>\n",
       "      <td>2.569350e+05</td>\n",
       "      <td>256939.000000</td>\n",
       "      <td>256910.000000</td>\n",
       "      <td>256910.000000</td>\n",
       "      <td>...</td>\n",
       "      <td>144.000000</td>\n",
       "      <td>126.000000</td>\n",
       "      <td>144.000000</td>\n",
       "      <td>144.000000</td>\n",
       "      <td>144.000000</td>\n",
       "      <td>144.000000</td>\n",
       "      <td>1.904640e+05</td>\n",
       "      <td>144.000000</td>\n",
       "      <td>144.000000</td>\n",
       "      <td>144.000000</td>\n",
       "    </tr>\n",
       "    <tr>\n",
       "      <th>mean</th>\n",
       "      <td>13522.115950</td>\n",
       "      <td>13479.995641</td>\n",
       "      <td>13360.648099</td>\n",
       "      <td>41.336177</td>\n",
       "      <td>13.780014</td>\n",
       "      <td>416.923016</td>\n",
       "      <td>7.249885e+04</td>\n",
       "      <td>16.534986</td>\n",
       "      <td>0.250411</td>\n",
       "      <td>0.887821</td>\n",
       "      <td>...</td>\n",
       "      <td>36462.312500</td>\n",
       "      <td>73.657937</td>\n",
       "      <td>1.673611</td>\n",
       "      <td>3.555556</td>\n",
       "      <td>5517.340278</td>\n",
       "      <td>58.945139</td>\n",
       "      <td>2.969485e+04</td>\n",
       "      <td>1.256944</td>\n",
       "      <td>2.097222</td>\n",
       "      <td>2.625000</td>\n",
       "    </tr>\n",
       "    <tr>\n",
       "      <th>std</th>\n",
       "      <td>8128.811481</td>\n",
       "      <td>8106.456843</td>\n",
       "      <td>8141.904114</td>\n",
       "      <td>9.979672</td>\n",
       "      <td>4.389704</td>\n",
       "      <td>244.878760</td>\n",
       "      <td>5.890043e+04</td>\n",
       "      <td>7.793541</td>\n",
       "      <td>0.742431</td>\n",
       "      <td>1.158745</td>\n",
       "      <td>...</td>\n",
       "      <td>38137.563875</td>\n",
       "      <td>23.074812</td>\n",
       "      <td>1.629406</td>\n",
       "      <td>2.932284</td>\n",
       "      <td>4507.604776</td>\n",
       "      <td>20.356957</td>\n",
       "      <td>2.949980e+04</td>\n",
       "      <td>1.792551</td>\n",
       "      <td>3.903234</td>\n",
       "      <td>4.057067</td>\n",
       "    </tr>\n",
       "    <tr>\n",
       "      <th>min</th>\n",
       "      <td>500.000000</td>\n",
       "      <td>500.000000</td>\n",
       "      <td>0.000000</td>\n",
       "      <td>36.000000</td>\n",
       "      <td>5.320000</td>\n",
       "      <td>15.670000</td>\n",
       "      <td>1.896000e+03</td>\n",
       "      <td>0.000000</td>\n",
       "      <td>0.000000</td>\n",
       "      <td>0.000000</td>\n",
       "      <td>...</td>\n",
       "      <td>0.000000</td>\n",
       "      <td>0.000000</td>\n",
       "      <td>0.000000</td>\n",
       "      <td>0.000000</td>\n",
       "      <td>0.000000</td>\n",
       "      <td>7.900000</td>\n",
       "      <td>0.000000e+00</td>\n",
       "      <td>0.000000</td>\n",
       "      <td>0.000000</td>\n",
       "      <td>-4.000000</td>\n",
       "    </tr>\n",
       "    <tr>\n",
       "      <th>25%</th>\n",
       "      <td>7200.000000</td>\n",
       "      <td>7200.000000</td>\n",
       "      <td>7100.000000</td>\n",
       "      <td>36.000000</td>\n",
       "      <td>10.740000</td>\n",
       "      <td>238.130000</td>\n",
       "      <td>4.500000e+04</td>\n",
       "      <td>10.740000</td>\n",
       "      <td>0.000000</td>\n",
       "      <td>0.000000</td>\n",
       "      <td>...</td>\n",
       "      <td>10763.750000</td>\n",
       "      <td>63.350000</td>\n",
       "      <td>0.000000</td>\n",
       "      <td>2.000000</td>\n",
       "      <td>2091.250000</td>\n",
       "      <td>46.825000</td>\n",
       "      <td>1.330000e+04</td>\n",
       "      <td>0.000000</td>\n",
       "      <td>0.000000</td>\n",
       "      <td>1.000000</td>\n",
       "    </tr>\n",
       "    <tr>\n",
       "      <th>50%</th>\n",
       "      <td>12000.000000</td>\n",
       "      <td>12000.000000</td>\n",
       "      <td>11950.000000</td>\n",
       "      <td>36.000000</td>\n",
       "      <td>13.550000</td>\n",
       "      <td>364.290000</td>\n",
       "      <td>6.200000e+04</td>\n",
       "      <td>16.200000</td>\n",
       "      <td>0.000000</td>\n",
       "      <td>1.000000</td>\n",
       "      <td>...</td>\n",
       "      <td>23605.000000</td>\n",
       "      <td>77.050000</td>\n",
       "      <td>1.000000</td>\n",
       "      <td>3.000000</td>\n",
       "      <td>4511.500000</td>\n",
       "      <td>61.950000</td>\n",
       "      <td>2.230000e+04</td>\n",
       "      <td>1.000000</td>\n",
       "      <td>0.000000</td>\n",
       "      <td>2.000000</td>\n",
       "    </tr>\n",
       "    <tr>\n",
       "      <th>75%</th>\n",
       "      <td>18200.000000</td>\n",
       "      <td>18000.000000</td>\n",
       "      <td>18000.000000</td>\n",
       "      <td>36.000000</td>\n",
       "      <td>16.550000</td>\n",
       "      <td>546.430000</td>\n",
       "      <td>8.700000e+04</td>\n",
       "      <td>21.990000</td>\n",
       "      <td>0.000000</td>\n",
       "      <td>1.000000</td>\n",
       "      <td>...</td>\n",
       "      <td>50835.750000</td>\n",
       "      <td>88.250000</td>\n",
       "      <td>2.000000</td>\n",
       "      <td>5.000000</td>\n",
       "      <td>8212.750000</td>\n",
       "      <td>74.225000</td>\n",
       "      <td>3.680000e+04</td>\n",
       "      <td>1.000000</td>\n",
       "      <td>2.000000</td>\n",
       "      <td>4.000000</td>\n",
       "    </tr>\n",
       "    <tr>\n",
       "      <th>max</th>\n",
       "      <td>35000.000000</td>\n",
       "      <td>35000.000000</td>\n",
       "      <td>35000.000000</td>\n",
       "      <td>60.000000</td>\n",
       "      <td>28.990000</td>\n",
       "      <td>1424.570000</td>\n",
       "      <td>8.706582e+06</td>\n",
       "      <td>57.140000</td>\n",
       "      <td>29.000000</td>\n",
       "      <td>33.000000</td>\n",
       "      <td>...</td>\n",
       "      <td>249212.000000</td>\n",
       "      <td>129.200000</td>\n",
       "      <td>8.000000</td>\n",
       "      <td>21.000000</td>\n",
       "      <td>22279.000000</td>\n",
       "      <td>102.800000</td>\n",
       "      <td>2.013133e+06</td>\n",
       "      <td>9.000000</td>\n",
       "      <td>21.000000</td>\n",
       "      <td>19.000000</td>\n",
       "    </tr>\n",
       "  </tbody>\n",
       "</table>\n",
       "<p>8 rows × 47 columns</p>\n",
       "</div>"
      ],
      "text/plain": [
       "           loan_amnt    funded_amnt  funded_amnt_inv           term  \\\n",
       "count  256939.000000  256939.000000    256939.000000  256939.000000   \n",
       "mean    13522.115950   13479.995641     13360.648099      41.336177   \n",
       "std      8128.811481    8106.456843      8141.904114       9.979672   \n",
       "min       500.000000     500.000000         0.000000      36.000000   \n",
       "25%      7200.000000    7200.000000      7100.000000      36.000000   \n",
       "50%     12000.000000   12000.000000     11950.000000      36.000000   \n",
       "75%     18200.000000   18000.000000     18000.000000      36.000000   \n",
       "max     35000.000000   35000.000000     35000.000000      60.000000   \n",
       "\n",
       "            int_rate    installment    annual_inc            dti  \\\n",
       "count  256939.000000  256939.000000  2.569350e+05  256939.000000   \n",
       "mean       13.780014     416.923016  7.249885e+04      16.534986   \n",
       "std         4.389704     244.878760  5.890043e+04       7.793541   \n",
       "min         5.320000      15.670000  1.896000e+03       0.000000   \n",
       "25%        10.740000     238.130000  4.500000e+04      10.740000   \n",
       "50%        13.550000     364.290000  6.200000e+04      16.200000   \n",
       "75%        16.550000     546.430000  8.700000e+04      21.990000   \n",
       "max        28.990000    1424.570000  8.706582e+06      57.140000   \n",
       "\n",
       "         delinq_2yrs  inq_last_6mths      ...        total_bal_il     il_util  \\\n",
       "count  256910.000000   256910.000000      ...          144.000000  126.000000   \n",
       "mean        0.250411        0.887821      ...        36462.312500   73.657937   \n",
       "std         0.742431        1.158745      ...        38137.563875   23.074812   \n",
       "min         0.000000        0.000000      ...            0.000000    0.000000   \n",
       "25%         0.000000        0.000000      ...        10763.750000   63.350000   \n",
       "50%         0.000000        1.000000      ...        23605.000000   77.050000   \n",
       "75%         0.000000        1.000000      ...        50835.750000   88.250000   \n",
       "max        29.000000       33.000000      ...       249212.000000  129.200000   \n",
       "\n",
       "       open_rv_12m  open_rv_24m    max_bal_bc    all_util  total_rev_hi_lim  \\\n",
       "count   144.000000   144.000000    144.000000  144.000000      1.904640e+05   \n",
       "mean      1.673611     3.555556   5517.340278   58.945139      2.969485e+04   \n",
       "std       1.629406     2.932284   4507.604776   20.356957      2.949980e+04   \n",
       "min       0.000000     0.000000      0.000000    7.900000      0.000000e+00   \n",
       "25%       0.000000     2.000000   2091.250000   46.825000      1.330000e+04   \n",
       "50%       1.000000     3.000000   4511.500000   61.950000      2.230000e+04   \n",
       "75%       2.000000     5.000000   8212.750000   74.225000      3.680000e+04   \n",
       "max       8.000000    21.000000  22279.000000  102.800000      2.013133e+06   \n",
       "\n",
       "           inq_fi  total_cu_tl  inq_last_12m  \n",
       "count  144.000000   144.000000    144.000000  \n",
       "mean     1.256944     2.097222      2.625000  \n",
       "std      1.792551     3.903234      4.057067  \n",
       "min      0.000000     0.000000     -4.000000  \n",
       "25%      0.000000     0.000000      1.000000  \n",
       "50%      1.000000     0.000000      2.000000  \n",
       "75%      1.000000     2.000000      4.000000  \n",
       "max      9.000000    21.000000     19.000000  \n",
       "\n",
       "[8 rows x 47 columns]"
      ]
     },
     "execution_count": 253,
     "metadata": {},
     "output_type": "execute_result"
    }
   ],
   "source": [
    "df.describe()"
   ]
  },
  {
   "cell_type": "code",
   "execution_count": 254,
   "metadata": {
    "collapsed": true
   },
   "outputs": [],
   "source": [
    "df = df.drop(['loan_amnt', 'funded_amnt_inv'], axis=1)"
   ]
  },
  {
   "cell_type": "code",
   "execution_count": 255,
   "metadata": {},
   "outputs": [
    {
     "name": "stdout",
     "output_type": "stream",
     "text": [
      "<class 'pandas.core.frame.DataFrame'>\n",
      "Int64Index: 256939 entries, 1077501 to 36260758\n",
      "Data columns (total 53 columns):\n",
      "funded_amnt                    256939 non-null float64\n",
      "term                           256939 non-null int64\n",
      "int_rate                       256939 non-null float64\n",
      "installment                    256939 non-null float64\n",
      "grade                          256939 non-null category\n",
      "sub_grade                      256939 non-null category\n",
      "emp_length                     256939 non-null category\n",
      "home_ownership                 256939 non-null category\n",
      "annual_inc                     256935 non-null float64\n",
      "verification_status            256939 non-null category\n",
      "loan_status                    256939 non-null category\n",
      "pymnt_plan                     256939 non-null category\n",
      "dti                            256939 non-null float64\n",
      "delinq_2yrs                    256910 non-null float64\n",
      "earliest_cr_line               256910 non-null datetime64[ns]\n",
      "inq_last_6mths                 256910 non-null float64\n",
      "mths_since_last_delinq         114294 non-null float64\n",
      "mths_since_last_record         32674 non-null float64\n",
      "open_acc                       256910 non-null float64\n",
      "pub_rec                        256910 non-null float64\n",
      "revol_bal                      256939 non-null float64\n",
      "revol_util                     256699 non-null float64\n",
      "total_acc                      256910 non-null float64\n",
      "out_prncp                      256939 non-null float64\n",
      "out_prncp_inv                  256939 non-null float64\n",
      "total_pymnt                    256939 non-null float64\n",
      "total_pymnt_inv                256939 non-null float64\n",
      "total_rec_prncp                256939 non-null float64\n",
      "total_rec_int                  256939 non-null float64\n",
      "total_rec_late_fee             256939 non-null float64\n",
      "recoveries                     256939 non-null float64\n",
      "collection_recovery_fee        256939 non-null float64\n",
      "last_pymnt_amnt                256939 non-null float64\n",
      "collections_12_mths_ex_med     256794 non-null float64\n",
      "mths_since_last_major_derog    47876 non-null float64\n",
      "acc_now_delinq                 256910 non-null float64\n",
      "tot_coll_amt                   190464 non-null float64\n",
      "tot_cur_bal                    190464 non-null float64\n",
      "open_acc_6m                    144 non-null float64\n",
      "open_il_6m                     144 non-null float64\n",
      "open_il_12m                    144 non-null float64\n",
      "open_il_24m                    144 non-null float64\n",
      "mths_since_rcnt_il             140 non-null float64\n",
      "total_bal_il                   144 non-null float64\n",
      "il_util                        126 non-null float64\n",
      "open_rv_12m                    144 non-null float64\n",
      "open_rv_24m                    144 non-null float64\n",
      "max_bal_bc                     144 non-null float64\n",
      "all_util                       144 non-null float64\n",
      "total_rev_hi_lim               190464 non-null float64\n",
      "inq_fi                         144 non-null float64\n",
      "total_cu_tl                    144 non-null float64\n",
      "inq_last_12m                   144 non-null float64\n",
      "dtypes: category(7), datetime64[ns](1), float64(44), int64(1)\n",
      "memory usage: 103.9 MB\n"
     ]
    }
   ],
   "source": [
    "df.info()"
   ]
  },
  {
   "cell_type": "code",
   "execution_count": null,
   "metadata": {
    "collapsed": true
   },
   "outputs": [],
   "source": []
  }
 ],
 "metadata": {
  "kernelspec": {
   "display_name": "Python 3",
   "language": "python",
   "name": "python3"
  },
  "language_info": {
   "codemirror_mode": {
    "name": "ipython",
    "version": 3
   },
   "file_extension": ".py",
   "mimetype": "text/x-python",
   "name": "python",
   "nbconvert_exporter": "python",
   "pygments_lexer": "ipython3",
   "version": "3.6.3"
  }
 },
 "nbformat": 4,
 "nbformat_minor": 2
}
