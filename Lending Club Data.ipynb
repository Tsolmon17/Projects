{
 "cells": [
  {
   "cell_type": "markdown",
   "metadata": {},
   "source": [
    "# Lending Club Data - Predicting Loan Defaults"
   ]
  },
  {
   "cell_type": "code",
   "execution_count": 461,
   "metadata": {
    "collapsed": true
   },
   "outputs": [],
   "source": [
    "# importing necessary modules\n",
    "%matplotlib inline\n",
    "\n",
    "import pandas as pd\n",
    "import numpy as np\n",
    "import matplotlib.pyplot as plt\n",
    "import numpy as np\n",
    "import seaborn as sns\n",
    "from datetime import datetime"
   ]
  },
  {
   "cell_type": "code",
   "execution_count": 462,
   "metadata": {},
   "outputs": [
    {
     "name": "stderr",
     "output_type": "stream",
     "text": [
      "/anaconda3/lib/python3.6/site-packages/IPython/core/interactiveshell.py:2698: DtypeWarning: Columns (19,55) have mixed types. Specify dtype option on import or set low_memory=False.\n",
      "  interactivity=interactivity, compiler=compiler, result=result)\n"
     ]
    }
   ],
   "source": [
    "# load data\n",
    "df = pd.read_csv(\"../../../Documents/loan.csv\", index_col=0)"
   ]
  },
  {
   "cell_type": "code",
   "execution_count": 463,
   "metadata": {},
   "outputs": [
    {
     "data": {
      "text/html": [
       "<div>\n",
       "<style>\n",
       "    .dataframe thead tr:only-child th {\n",
       "        text-align: right;\n",
       "    }\n",
       "\n",
       "    .dataframe thead th {\n",
       "        text-align: left;\n",
       "    }\n",
       "\n",
       "    .dataframe tbody tr th {\n",
       "        vertical-align: top;\n",
       "    }\n",
       "</style>\n",
       "<table border=\"1\" class=\"dataframe\">\n",
       "  <thead>\n",
       "    <tr style=\"text-align: right;\">\n",
       "      <th></th>\n",
       "      <th>member_id</th>\n",
       "      <th>loan_amnt</th>\n",
       "      <th>funded_amnt</th>\n",
       "      <th>funded_amnt_inv</th>\n",
       "      <th>term</th>\n",
       "      <th>int_rate</th>\n",
       "      <th>installment</th>\n",
       "      <th>grade</th>\n",
       "      <th>sub_grade</th>\n",
       "      <th>emp_title</th>\n",
       "      <th>...</th>\n",
       "      <th>total_bal_il</th>\n",
       "      <th>il_util</th>\n",
       "      <th>open_rv_12m</th>\n",
       "      <th>open_rv_24m</th>\n",
       "      <th>max_bal_bc</th>\n",
       "      <th>all_util</th>\n",
       "      <th>total_rev_hi_lim</th>\n",
       "      <th>inq_fi</th>\n",
       "      <th>total_cu_tl</th>\n",
       "      <th>inq_last_12m</th>\n",
       "    </tr>\n",
       "    <tr>\n",
       "      <th>id</th>\n",
       "      <th></th>\n",
       "      <th></th>\n",
       "      <th></th>\n",
       "      <th></th>\n",
       "      <th></th>\n",
       "      <th></th>\n",
       "      <th></th>\n",
       "      <th></th>\n",
       "      <th></th>\n",
       "      <th></th>\n",
       "      <th></th>\n",
       "      <th></th>\n",
       "      <th></th>\n",
       "      <th></th>\n",
       "      <th></th>\n",
       "      <th></th>\n",
       "      <th></th>\n",
       "      <th></th>\n",
       "      <th></th>\n",
       "      <th></th>\n",
       "      <th></th>\n",
       "    </tr>\n",
       "  </thead>\n",
       "  <tbody>\n",
       "    <tr>\n",
       "      <th>1077501</th>\n",
       "      <td>1296599</td>\n",
       "      <td>5000.0</td>\n",
       "      <td>5000.0</td>\n",
       "      <td>4975.0</td>\n",
       "      <td>36 months</td>\n",
       "      <td>10.65</td>\n",
       "      <td>162.87</td>\n",
       "      <td>B</td>\n",
       "      <td>B2</td>\n",
       "      <td>NaN</td>\n",
       "      <td>...</td>\n",
       "      <td>NaN</td>\n",
       "      <td>NaN</td>\n",
       "      <td>NaN</td>\n",
       "      <td>NaN</td>\n",
       "      <td>NaN</td>\n",
       "      <td>NaN</td>\n",
       "      <td>NaN</td>\n",
       "      <td>NaN</td>\n",
       "      <td>NaN</td>\n",
       "      <td>NaN</td>\n",
       "    </tr>\n",
       "    <tr>\n",
       "      <th>1077430</th>\n",
       "      <td>1314167</td>\n",
       "      <td>2500.0</td>\n",
       "      <td>2500.0</td>\n",
       "      <td>2500.0</td>\n",
       "      <td>60 months</td>\n",
       "      <td>15.27</td>\n",
       "      <td>59.83</td>\n",
       "      <td>C</td>\n",
       "      <td>C4</td>\n",
       "      <td>Ryder</td>\n",
       "      <td>...</td>\n",
       "      <td>NaN</td>\n",
       "      <td>NaN</td>\n",
       "      <td>NaN</td>\n",
       "      <td>NaN</td>\n",
       "      <td>NaN</td>\n",
       "      <td>NaN</td>\n",
       "      <td>NaN</td>\n",
       "      <td>NaN</td>\n",
       "      <td>NaN</td>\n",
       "      <td>NaN</td>\n",
       "    </tr>\n",
       "    <tr>\n",
       "      <th>1077175</th>\n",
       "      <td>1313524</td>\n",
       "      <td>2400.0</td>\n",
       "      <td>2400.0</td>\n",
       "      <td>2400.0</td>\n",
       "      <td>36 months</td>\n",
       "      <td>15.96</td>\n",
       "      <td>84.33</td>\n",
       "      <td>C</td>\n",
       "      <td>C5</td>\n",
       "      <td>NaN</td>\n",
       "      <td>...</td>\n",
       "      <td>NaN</td>\n",
       "      <td>NaN</td>\n",
       "      <td>NaN</td>\n",
       "      <td>NaN</td>\n",
       "      <td>NaN</td>\n",
       "      <td>NaN</td>\n",
       "      <td>NaN</td>\n",
       "      <td>NaN</td>\n",
       "      <td>NaN</td>\n",
       "      <td>NaN</td>\n",
       "    </tr>\n",
       "    <tr>\n",
       "      <th>1076863</th>\n",
       "      <td>1277178</td>\n",
       "      <td>10000.0</td>\n",
       "      <td>10000.0</td>\n",
       "      <td>10000.0</td>\n",
       "      <td>36 months</td>\n",
       "      <td>13.49</td>\n",
       "      <td>339.31</td>\n",
       "      <td>C</td>\n",
       "      <td>C1</td>\n",
       "      <td>AIR RESOURCES BOARD</td>\n",
       "      <td>...</td>\n",
       "      <td>NaN</td>\n",
       "      <td>NaN</td>\n",
       "      <td>NaN</td>\n",
       "      <td>NaN</td>\n",
       "      <td>NaN</td>\n",
       "      <td>NaN</td>\n",
       "      <td>NaN</td>\n",
       "      <td>NaN</td>\n",
       "      <td>NaN</td>\n",
       "      <td>NaN</td>\n",
       "    </tr>\n",
       "    <tr>\n",
       "      <th>1075358</th>\n",
       "      <td>1311748</td>\n",
       "      <td>3000.0</td>\n",
       "      <td>3000.0</td>\n",
       "      <td>3000.0</td>\n",
       "      <td>60 months</td>\n",
       "      <td>12.69</td>\n",
       "      <td>67.79</td>\n",
       "      <td>B</td>\n",
       "      <td>B5</td>\n",
       "      <td>University Medical Group</td>\n",
       "      <td>...</td>\n",
       "      <td>NaN</td>\n",
       "      <td>NaN</td>\n",
       "      <td>NaN</td>\n",
       "      <td>NaN</td>\n",
       "      <td>NaN</td>\n",
       "      <td>NaN</td>\n",
       "      <td>NaN</td>\n",
       "      <td>NaN</td>\n",
       "      <td>NaN</td>\n",
       "      <td>NaN</td>\n",
       "    </tr>\n",
       "  </tbody>\n",
       "</table>\n",
       "<p>5 rows × 73 columns</p>\n",
       "</div>"
      ],
      "text/plain": [
       "         member_id  loan_amnt  funded_amnt  funded_amnt_inv        term  \\\n",
       "id                                                                        \n",
       "1077501    1296599     5000.0       5000.0           4975.0   36 months   \n",
       "1077430    1314167     2500.0       2500.0           2500.0   60 months   \n",
       "1077175    1313524     2400.0       2400.0           2400.0   36 months   \n",
       "1076863    1277178    10000.0      10000.0          10000.0   36 months   \n",
       "1075358    1311748     3000.0       3000.0           3000.0   60 months   \n",
       "\n",
       "         int_rate  installment grade sub_grade                 emp_title  \\\n",
       "id                                                                         \n",
       "1077501     10.65       162.87     B        B2                       NaN   \n",
       "1077430     15.27        59.83     C        C4                     Ryder   \n",
       "1077175     15.96        84.33     C        C5                       NaN   \n",
       "1076863     13.49       339.31     C        C1       AIR RESOURCES BOARD   \n",
       "1075358     12.69        67.79     B        B5  University Medical Group   \n",
       "\n",
       "            ...      total_bal_il il_util  open_rv_12m open_rv_24m max_bal_bc  \\\n",
       "id          ...                                                                 \n",
       "1077501     ...               NaN     NaN          NaN         NaN        NaN   \n",
       "1077430     ...               NaN     NaN          NaN         NaN        NaN   \n",
       "1077175     ...               NaN     NaN          NaN         NaN        NaN   \n",
       "1076863     ...               NaN     NaN          NaN         NaN        NaN   \n",
       "1075358     ...               NaN     NaN          NaN         NaN        NaN   \n",
       "\n",
       "        all_util total_rev_hi_lim inq_fi total_cu_tl inq_last_12m  \n",
       "id                                                                 \n",
       "1077501      NaN              NaN    NaN         NaN          NaN  \n",
       "1077430      NaN              NaN    NaN         NaN          NaN  \n",
       "1077175      NaN              NaN    NaN         NaN          NaN  \n",
       "1076863      NaN              NaN    NaN         NaN          NaN  \n",
       "1075358      NaN              NaN    NaN         NaN          NaN  \n",
       "\n",
       "[5 rows x 73 columns]"
      ]
     },
     "execution_count": 463,
     "metadata": {},
     "output_type": "execute_result"
    }
   ],
   "source": [
    "df.head()"
   ]
  },
  {
   "cell_type": "markdown",
   "metadata": {},
   "source": [
    "### Data Wrangling"
   ]
  },
  {
   "cell_type": "code",
   "execution_count": 464,
   "metadata": {},
   "outputs": [
    {
     "name": "stdout",
     "output_type": "stream",
     "text": [
      "<class 'pandas.core.frame.DataFrame'>\n",
      "Int64Index: 887379 entries, 1077501 to 36271262\n",
      "Data columns (total 73 columns):\n",
      "member_id                      887379 non-null int64\n",
      "loan_amnt                      887379 non-null float64\n",
      "funded_amnt                    887379 non-null float64\n",
      "funded_amnt_inv                887379 non-null float64\n",
      "term                           887379 non-null object\n",
      "int_rate                       887379 non-null float64\n",
      "installment                    887379 non-null float64\n",
      "grade                          887379 non-null object\n",
      "sub_grade                      887379 non-null object\n",
      "emp_title                      835922 non-null object\n",
      "emp_length                     887379 non-null object\n",
      "home_ownership                 887379 non-null object\n",
      "annual_inc                     887375 non-null float64\n",
      "verification_status            887379 non-null object\n",
      "issue_d                        887379 non-null object\n",
      "loan_status                    887379 non-null object\n",
      "pymnt_plan                     887379 non-null object\n",
      "url                            887379 non-null object\n",
      "desc                           126029 non-null object\n",
      "purpose                        887379 non-null object\n",
      "title                          887228 non-null object\n",
      "zip_code                       887379 non-null object\n",
      "addr_state                     887379 non-null object\n",
      "dti                            887379 non-null float64\n",
      "delinq_2yrs                    887350 non-null float64\n",
      "earliest_cr_line               887350 non-null object\n",
      "inq_last_6mths                 887350 non-null float64\n",
      "mths_since_last_delinq         433067 non-null float64\n",
      "mths_since_last_record         137053 non-null float64\n",
      "open_acc                       887350 non-null float64\n",
      "pub_rec                        887350 non-null float64\n",
      "revol_bal                      887379 non-null float64\n",
      "revol_util                     886877 non-null float64\n",
      "total_acc                      887350 non-null float64\n",
      "initial_list_status            887379 non-null object\n",
      "out_prncp                      887379 non-null float64\n",
      "out_prncp_inv                  887379 non-null float64\n",
      "total_pymnt                    887379 non-null float64\n",
      "total_pymnt_inv                887379 non-null float64\n",
      "total_rec_prncp                887379 non-null float64\n",
      "total_rec_int                  887379 non-null float64\n",
      "total_rec_late_fee             887379 non-null float64\n",
      "recoveries                     887379 non-null float64\n",
      "collection_recovery_fee        887379 non-null float64\n",
      "last_pymnt_d                   869720 non-null object\n",
      "last_pymnt_amnt                887379 non-null float64\n",
      "next_pymnt_d                   634408 non-null object\n",
      "last_credit_pull_d             887326 non-null object\n",
      "collections_12_mths_ex_med     887234 non-null float64\n",
      "mths_since_last_major_derog    221703 non-null float64\n",
      "policy_code                    887379 non-null float64\n",
      "application_type               887379 non-null object\n",
      "annual_inc_joint               511 non-null float64\n",
      "dti_joint                      509 non-null float64\n",
      "verification_status_joint      511 non-null object\n",
      "acc_now_delinq                 887350 non-null float64\n",
      "tot_coll_amt                   817103 non-null float64\n",
      "tot_cur_bal                    817103 non-null float64\n",
      "open_acc_6m                    21372 non-null float64\n",
      "open_il_6m                     21372 non-null float64\n",
      "open_il_12m                    21372 non-null float64\n",
      "open_il_24m                    21372 non-null float64\n",
      "mths_since_rcnt_il             20810 non-null float64\n",
      "total_bal_il                   21372 non-null float64\n",
      "il_util                        18617 non-null float64\n",
      "open_rv_12m                    21372 non-null float64\n",
      "open_rv_24m                    21372 non-null float64\n",
      "max_bal_bc                     21372 non-null float64\n",
      "all_util                       21372 non-null float64\n",
      "total_rev_hi_lim               817103 non-null float64\n",
      "inq_fi                         21372 non-null float64\n",
      "total_cu_tl                    21372 non-null float64\n",
      "inq_last_12m                   21372 non-null float64\n",
      "dtypes: float64(49), int64(1), object(23)\n",
      "memory usage: 501.0+ MB\n"
     ]
    }
   ],
   "source": [
    "df.info()"
   ]
  },
  {
   "cell_type": "code",
   "execution_count": 465,
   "metadata": {
    "collapsed": true
   },
   "outputs": [],
   "source": [
    "# removing months from term\n",
    "df.term = df.term.str.replace(' months', '')"
   ]
  },
  {
   "cell_type": "code",
   "execution_count": 466,
   "metadata": {},
   "outputs": [
    {
     "data": {
      "text/plain": [
       "id\n",
       "1077501     36\n",
       "1077430     60\n",
       "1077175     36\n",
       "1076863     36\n",
       "1075358     60\n",
       "Name: term, dtype: object"
      ]
     },
     "execution_count": 466,
     "metadata": {},
     "output_type": "execute_result"
    }
   ],
   "source": [
    "df.term.head()"
   ]
  },
  {
   "cell_type": "code",
   "execution_count": 467,
   "metadata": {
    "collapsed": true
   },
   "outputs": [],
   "source": [
    "# changing into int type\n",
    "df.term = df.term.astype(int)"
   ]
  },
  {
   "cell_type": "code",
   "execution_count": 468,
   "metadata": {},
   "outputs": [
    {
     "data": {
      "text/plain": [
       "B    254535\n",
       "C    245860\n",
       "A    148202\n",
       "D    139542\n",
       "E     70705\n",
       "F     23046\n",
       "G      5489\n",
       "Name: grade, dtype: int64"
      ]
     },
     "execution_count": 468,
     "metadata": {},
     "output_type": "execute_result"
    }
   ],
   "source": [
    "df.grade.value_counts()"
   ]
  },
  {
   "cell_type": "code",
   "execution_count": 469,
   "metadata": {},
   "outputs": [
    {
     "data": {
      "text/plain": [
       "2    254535\n",
       "3    245860\n",
       "1    148202\n",
       "4    139542\n",
       "5     70705\n",
       "6     23046\n",
       "7      5489\n",
       "Name: grade, dtype: int64"
      ]
     },
     "execution_count": 469,
     "metadata": {},
     "output_type": "execute_result"
    }
   ],
   "source": [
    "# changing into numerical data type\n",
    "df.grade.replace(['A', 'B', 'C', 'D', 'E', 'F', 'G'], range(1,8), inplace=True)\n",
    "df.grade.value_counts()"
   ]
  },
  {
   "cell_type": "code",
   "execution_count": 470,
   "metadata": {
    "collapsed": true
   },
   "outputs": [],
   "source": [
    "# changing into categorical type\n",
    "df.grade = df.grade.astype('category')"
   ]
  },
  {
   "cell_type": "code",
   "execution_count": 471,
   "metadata": {},
   "outputs": [
    {
     "data": {
      "text/plain": [
       "B3    56323\n",
       "B4    55626\n",
       "C1    53387\n",
       "C2    52236\n",
       "C3    50161\n",
       "C4    48857\n",
       "B5    48833\n",
       "B2    48781\n",
       "B1    44972\n",
       "A5    44816\n",
       "C5    41219\n",
       "D1    36238\n",
       "A4    34531\n",
       "D2    29803\n",
       "D3    26554\n",
       "D4    25558\n",
       "A3    23457\n",
       "A1    22913\n",
       "A2    22485\n",
       "D5    21389\n",
       "E1    18268\n",
       "E2    17004\n",
       "E3    14134\n",
       "E4    11724\n",
       "E5     9575\n",
       "F1     7218\n",
       "F2     5392\n",
       "F3     4433\n",
       "F4     3409\n",
       "F5     2594\n",
       "G1     1871\n",
       "G2     1398\n",
       "G3      981\n",
       "G4      663\n",
       "G5      576\n",
       "Name: sub_grade, dtype: int64"
      ]
     },
     "execution_count": 471,
     "metadata": {},
     "output_type": "execute_result"
    }
   ],
   "source": [
    "df.sub_grade.value_counts()"
   ]
  },
  {
   "cell_type": "code",
   "execution_count": 472,
   "metadata": {
    "collapsed": true
   },
   "outputs": [],
   "source": [
    "# changing into numerical data type\n",
    "df.sub_grade.replace(['A1','A2','A3','A4','A5',\n",
    "                      'B1','B2','B3','B4','B5',\n",
    "                      'C1','C2','C3','C4','C5',\n",
    "                      'D1','D2','D3','D4','D5',\n",
    "                      'E1','E2','E3','E4','E5',\n",
    "                      'F1','F2','F3','F4','F5',\n",
    "                      'G1','G2','G3','G4','G5'],\n",
    "                     range(1,36), inplace=True)\n",
    "\n",
    "# changing into categorical type\n",
    "df.sub_grade = df.sub_grade.astype('category')"
   ]
  },
  {
   "cell_type": "code",
   "execution_count": 473,
   "metadata": {},
   "outputs": [
    {
     "data": {
      "text/plain": [
       "8     56323\n",
       "9     55626\n",
       "11    53387\n",
       "12    52236\n",
       "13    50161\n",
       "14    48857\n",
       "10    48833\n",
       "7     48781\n",
       "6     44972\n",
       "5     44816\n",
       "15    41219\n",
       "16    36238\n",
       "4     34531\n",
       "17    29803\n",
       "18    26554\n",
       "19    25558\n",
       "3     23457\n",
       "1     22913\n",
       "2     22485\n",
       "20    21389\n",
       "21    18268\n",
       "22    17004\n",
       "23    14134\n",
       "24    11724\n",
       "25     9575\n",
       "26     7218\n",
       "27     5392\n",
       "28     4433\n",
       "29     3409\n",
       "30     2594\n",
       "31     1871\n",
       "32     1398\n",
       "33      981\n",
       "34      663\n",
       "35      576\n",
       "Name: sub_grade, dtype: int64"
      ]
     },
     "execution_count": 473,
     "metadata": {},
     "output_type": "execute_result"
    }
   ],
   "source": [
    "df.sub_grade.value_counts()"
   ]
  },
  {
   "cell_type": "code",
   "execution_count": 474,
   "metadata": {},
   "outputs": [
    {
     "data": {
      "image/png": "[encoded data removed]",
      "text/plain": [
       "<matplotlib.figure.Figure at 0x1bea7ae780>"
      ]
     },
     "metadata": {},
     "output_type": "display_data"
    }
   ],
   "source": [
    "sns.set()\n",
    "df.grade.hist(bins=7, edgecolor='w')\n",
    "plt.xticks(range(0,6), ['G','F','E','D','C','B','A'])\n",
    "plt.title('Loans by Credit Grade')\n",
    "plt.xlabel('Grade')\n",
    "plt.ylabel('Count')\n",
    "plt.show()"
   ]
  },
  {
   "cell_type": "code",
   "execution_count": 475,
   "metadata": {},
   "outputs": [
    {
     "data": {
      "text/plain": [
       "10+ years    291569\n",
       "2 years       78870\n",
       "< 1 year      70605\n",
       "3 years       70026\n",
       "1 year        57095\n",
       "5 years       55704\n",
       "4 years       52529\n",
       "n/a           44825\n",
       "7 years       44594\n",
       "8 years       43955\n",
       "6 years       42950\n",
       "9 years       34657\n",
       "Name: emp_length, dtype: int64"
      ]
     },
     "execution_count": 475,
     "metadata": {},
     "output_type": "execute_result"
    }
   ],
   "source": [
    "df.emp_length.value_counts()"
   ]
  },
  {
   "cell_type": "code",
   "execution_count": 476,
   "metadata": {},
   "outputs": [],
   "source": [
    "df.emp_length.replace(['10+ years', '2 years', '< 1 year', '3 years', '1 year',\n",
    "                      '5 years', '4 years', 'n/a', '7 years', '8 years', '6 years', '9 years'], \n",
    "                      [10, 2, 0, 3, 1, 5, 4, 0, 7, 8, 6, 9], inplace=True)"
   ]
  },
  {
   "cell_type": "code",
   "execution_count": 477,
   "metadata": {},
   "outputs": [
    {
     "data": {
      "text/plain": [
       "10    291569\n",
       "0     115430\n",
       "2      78870\n",
       "3      70026\n",
       "1      57095\n",
       "5      55704\n",
       "4      52529\n",
       "7      44594\n",
       "8      43955\n",
       "6      42950\n",
       "9      34657\n",
       "Name: emp_length, dtype: int64"
      ]
     },
     "execution_count": 477,
     "metadata": {},
     "output_type": "execute_result"
    }
   ],
   "source": [
    "df.emp_length = df.emp_length.astype('category')\n",
    "df.emp_length.value_counts()"
   ]
  },
  {
   "cell_type": "code",
   "execution_count": 478,
   "metadata": {},
   "outputs": [
    {
     "data": {
      "text/plain": [
       "MORTGAGE    443557\n",
       "RENT        356117\n",
       "OWN          87470\n",
       "OTHER          182\n",
       "NONE            50\n",
       "ANY              3\n",
       "Name: home_ownership, dtype: int64"
      ]
     },
     "execution_count": 478,
     "metadata": {},
     "output_type": "execute_result"
    }
   ],
   "source": [
    "df.home_ownership.value_counts()"
   ]
  },
  {
   "cell_type": "code",
   "execution_count": 479,
   "metadata": {
    "collapsed": true
   },
   "outputs": [],
   "source": [
    "df.home_ownership.replace(['OWN', 'MORTGAGE', 'RENT', 'OTHER', 'NONE', 'ANY'], [3,2,1,0,0,0], inplace=True)\n",
    "df.home_ownership = df.home_ownership.astype('category')"
   ]
  },
  {
   "cell_type": "code",
   "execution_count": 480,
   "metadata": {},
   "outputs": [
    {
     "data": {
      "text/plain": [
       "2    443557\n",
       "1    356117\n",
       "3     87470\n",
       "0       235\n",
       "Name: home_ownership, dtype: int64"
      ]
     },
     "execution_count": 480,
     "metadata": {},
     "output_type": "execute_result"
    }
   ],
   "source": [
    "df.home_ownership.value_counts()"
   ]
  },
  {
   "cell_type": "code",
   "execution_count": 481,
   "metadata": {},
   "outputs": [
    {
     "data": {
      "image/png": "[encoded data removed]",
      "text/plain": [
       "<matplotlib.figure.Figure at 0x1be67a9dd8>"
      ]
     },
     "metadata": {},
     "output_type": "display_data"
    }
   ],
   "source": [
    "sns.set()\n",
    "df.home_ownership.hist(bins=4, edgecolor='w')\n",
    "plt.xlabel('Home Ownership')\n",
    "plt.ylabel('Count')\n",
    "plt.xticks([0,1,2,3], ['OTHER','RENT','MORTGAGE','OWN'])\n",
    "plt.show()"
   ]
  },
  {
   "cell_type": "code",
   "execution_count": 482,
   "metadata": {},
   "outputs": [
    {
     "data": {
      "text/plain": [
       "Source Verified    329558\n",
       "Verified           291071\n",
       "Not Verified       266750\n",
       "Name: verification_status, dtype: int64"
      ]
     },
     "execution_count": 482,
     "metadata": {},
     "output_type": "execute_result"
    }
   ],
   "source": [
    "df.verification_status.value_counts()"
   ]
  },
  {
   "cell_type": "code",
   "execution_count": 483,
   "metadata": {
    "collapsed": true
   },
   "outputs": [],
   "source": [
    "df.verification_status.replace(['Source Verified', 'Verified', 'Not Verified'], [1,1,0], inplace=True)\n",
    "df.verification_status = df.verification_status.astype('category')"
   ]
  },
  {
   "cell_type": "code",
   "execution_count": 484,
   "metadata": {},
   "outputs": [
    {
     "data": {
      "text/plain": [
       "1    620629\n",
       "0    266750\n",
       "Name: verification_status, dtype: int64"
      ]
     },
     "execution_count": 484,
     "metadata": {},
     "output_type": "execute_result"
    }
   ],
   "source": [
    "df.verification_status.value_counts()"
   ]
  },
  {
   "cell_type": "code",
   "execution_count": 485,
   "metadata": {
    "collapsed": true
   },
   "outputs": [],
   "source": [
    "df.issue_d = pd.to_datetime(df.issue_d)"
   ]
  },
  {
   "cell_type": "code",
   "execution_count": 486,
   "metadata": {},
   "outputs": [
    {
     "data": {
      "text/plain": [
       "id\n",
       "1077501   2011-12-01\n",
       "1077430   2011-12-01\n",
       "1077175   2011-12-01\n",
       "1076863   2011-12-01\n",
       "1075358   2011-12-01\n",
       "Name: issue_d, dtype: datetime64[ns]"
      ]
     },
     "execution_count": 486,
     "metadata": {},
     "output_type": "execute_result"
    }
   ],
   "source": [
    "df.issue_d.head()"
   ]
  },
  {
   "cell_type": "code",
   "execution_count": 487,
   "metadata": {},
   "outputs": [
    {
     "data": {
      "text/plain": [
       "Current                                                601779\n",
       "Fully Paid                                             207723\n",
       "Charged Off                                             45248\n",
       "Late (31-120 days)                                      11591\n",
       "Issued                                                   8460\n",
       "In Grace Period                                          6253\n",
       "Late (16-30 days)                                        2357\n",
       "Does not meet the credit policy. Status:Fully Paid       1988\n",
       "Default                                                  1219\n",
       "Does not meet the credit policy. Status:Charged Off       761\n",
       "Name: loan_status, dtype: int64"
      ]
     },
     "execution_count": 487,
     "metadata": {},
     "output_type": "execute_result"
    }
   ],
   "source": [
    "df.loan_status.value_counts()"
   ]
  },
  {
   "cell_type": "code",
   "execution_count": 488,
   "metadata": {
    "collapsed": true
   },
   "outputs": [],
   "source": [
    "# selecting and encoding fully paid and defaulted loans only\n",
    "df.loan_status.replace(['Fully Paid', 'Does not meet the credit policy. Status:Fully Paid', 'Charged Off', \n",
    "                        'Default', 'Does not meet the credit policy. Status:Charged Off'], [0, 0, 1, 1, 1],\n",
    "                       inplace=True)"
   ]
  },
  {
   "cell_type": "code",
   "execution_count": 489,
   "metadata": {
    "collapsed": true
   },
   "outputs": [],
   "source": [
    "# dropping loans that are still active and not mature yet\n",
    "df = df.loc[df['loan_status'].isin([0, 1])]"
   ]
  },
  {
   "cell_type": "code",
   "execution_count": 490,
   "metadata": {},
   "outputs": [
    {
     "data": {
      "text/plain": [
       "0    209711\n",
       "1     47228\n",
       "Name: loan_status, dtype: int64"
      ]
     },
     "execution_count": 490,
     "metadata": {},
     "output_type": "execute_result"
    }
   ],
   "source": [
    "df.loan_status = df.loan_status.astype('category')\n",
    "df.loan_status.value_counts()"
   ]
  },
  {
   "cell_type": "markdown",
   "metadata": {},
   "source": [
    "**Created two classes:**\n",
    "* 0: Paid in Full\n",
    "* 1: Defaulted"
   ]
  },
  {
   "cell_type": "code",
   "execution_count": 491,
   "metadata": {},
   "outputs": [
    {
     "data": {
      "text/plain": [
       "n    256937\n",
       "y         2\n",
       "Name: pymnt_plan, dtype: int64"
      ]
     },
     "execution_count": 491,
     "metadata": {},
     "output_type": "execute_result"
    }
   ],
   "source": [
    "df.pymnt_plan.value_counts()"
   ]
  },
  {
   "cell_type": "code",
   "execution_count": 492,
   "metadata": {},
   "outputs": [
    {
     "data": {
      "text/plain": [
       "0    256937\n",
       "1         2\n",
       "Name: pymnt_plan, dtype: int64"
      ]
     },
     "execution_count": 492,
     "metadata": {},
     "output_type": "execute_result"
    }
   ],
   "source": [
    "df.pymnt_plan.replace(['n', 'y'], [0, 1], inplace=True)\n",
    "df.pymnt_plan = df.pymnt_plan.astype('category')\n",
    "df.pymnt_plan.value_counts()"
   ]
  },
  {
   "cell_type": "code",
   "execution_count": 493,
   "metadata": {
    "collapsed": true
   },
   "outputs": [],
   "source": [
    "# dropping columns that are not useful\n",
    "df = df.drop(['url', 'initial_list_status', 'last_credit_pull_d', 'policy_code', 'zip_code', 'addr_state'], axis=1)"
   ]
  },
  {
   "cell_type": "code",
   "execution_count": 494,
   "metadata": {
    "collapsed": true
   },
   "outputs": [],
   "source": [
    "df = df.drop(['issue_d'], axis=1)"
   ]
  },
  {
   "cell_type": "code",
   "execution_count": 495,
   "metadata": {
    "collapsed": true
   },
   "outputs": [],
   "source": [
    "df = df.drop(['title', 'desc'], axis=1)"
   ]
  },
  {
   "cell_type": "code",
   "execution_count": 496,
   "metadata": {
    "collapsed": true
   },
   "outputs": [],
   "source": [
    "df = df.drop(['emp_title', 'next_pymnt_d', 'last_pymnt_d', 'annual_inc_joint', 'dti_joint',\n",
    "              'verification_status_joint'], axis=1)"
   ]
  },
  {
   "cell_type": "code",
   "execution_count": 497,
   "metadata": {
    "collapsed": true
   },
   "outputs": [],
   "source": [
    "df = df.drop(['member_id'], axis=1)"
   ]
  },
  {
   "cell_type": "code",
   "execution_count": 498,
   "metadata": {},
   "outputs": [
    {
     "data": {
      "text/plain": [
       "debt_consolidation    150253\n",
       "credit_card            50649\n",
       "home_improvement       15190\n",
       "other                  14766\n",
       "major_purchase          6402\n",
       "small_business          4926\n",
       "car                     3720\n",
       "medical                 2927\n",
       "moving                  2085\n",
       "wedding                 2011\n",
       "house                   1703\n",
       "vacation                1615\n",
       "educational              422\n",
       "renewable_energy         270\n",
       "Name: purpose, dtype: int64"
      ]
     },
     "execution_count": 498,
     "metadata": {},
     "output_type": "execute_result"
    }
   ],
   "source": [
    "df.purpose.value_counts()"
   ]
  },
  {
   "cell_type": "code",
   "execution_count": 499,
   "metadata": {
    "collapsed": true
   },
   "outputs": [],
   "source": [
    "df = df.drop(['purpose', 'application_type'], axis=1)"
   ]
  },
  {
   "cell_type": "code",
   "execution_count": 500,
   "metadata": {},
   "outputs": [
    {
     "data": {
      "text/plain": [
       "id\n",
       "1077501    Jan-1985\n",
       "1077430    Apr-1999\n",
       "1077175    Nov-2001\n",
       "1076863    Feb-1996\n",
       "1075269    Nov-2004\n",
       "Name: earliest_cr_line, dtype: object"
      ]
     },
     "execution_count": 500,
     "metadata": {},
     "output_type": "execute_result"
    }
   ],
   "source": [
    "df.earliest_cr_line.head()"
   ]
  },
  {
   "cell_type": "code",
   "execution_count": 501,
   "metadata": {
    "collapsed": true
   },
   "outputs": [],
   "source": [
    "df.earliest_cr_line = pd.to_datetime(df.earliest_cr_line)"
   ]
  },
  {
   "cell_type": "code",
   "execution_count": 502,
   "metadata": {},
   "outputs": [
    {
     "name": "stdout",
     "output_type": "stream",
     "text": [
      "<class 'pandas.core.frame.DataFrame'>\n",
      "Int64Index: 256939 entries, 1077501 to 36260758\n",
      "Data columns (total 55 columns):\n",
      "loan_amnt                      256939 non-null float64\n",
      "funded_amnt                    256939 non-null float64\n",
      "funded_amnt_inv                256939 non-null float64\n",
      "term                           256939 non-null int64\n",
      "int_rate                       256939 non-null float64\n",
      "installment                    256939 non-null float64\n",
      "grade                          256939 non-null category\n",
      "sub_grade                      256939 non-null category\n",
      "emp_length                     256939 non-null category\n",
      "home_ownership                 256939 non-null category\n",
      "annual_inc                     256935 non-null float64\n",
      "verification_status            256939 non-null category\n",
      "loan_status                    256939 non-null category\n",
      "pymnt_plan                     256939 non-null category\n",
      "dti                            256939 non-null float64\n",
      "delinq_2yrs                    256910 non-null float64\n",
      "earliest_cr_line               256910 non-null datetime64[ns]\n",
      "inq_last_6mths                 256910 non-null float64\n",
      "mths_since_last_delinq         114294 non-null float64\n",
      "mths_since_last_record         32674 non-null float64\n",
      "open_acc                       256910 non-null float64\n",
      "pub_rec                        256910 non-null float64\n",
      "revol_bal                      256939 non-null float64\n",
      "revol_util                     256699 non-null float64\n",
      "total_acc                      256910 non-null float64\n",
      "out_prncp                      256939 non-null float64\n",
      "out_prncp_inv                  256939 non-null float64\n",
      "total_pymnt                    256939 non-null float64\n",
      "total_pymnt_inv                256939 non-null float64\n",
      "total_rec_prncp                256939 non-null float64\n",
      "total_rec_int                  256939 non-null float64\n",
      "total_rec_late_fee             256939 non-null float64\n",
      "recoveries                     256939 non-null float64\n",
      "collection_recovery_fee        256939 non-null float64\n",
      "last_pymnt_amnt                256939 non-null float64\n",
      "collections_12_mths_ex_med     256794 non-null float64\n",
      "mths_since_last_major_derog    47876 non-null float64\n",
      "acc_now_delinq                 256910 non-null float64\n",
      "tot_coll_amt                   190464 non-null float64\n",
      "tot_cur_bal                    190464 non-null float64\n",
      "open_acc_6m                    144 non-null float64\n",
      "open_il_6m                     144 non-null float64\n",
      "open_il_12m                    144 non-null float64\n",
      "open_il_24m                    144 non-null float64\n",
      "mths_since_rcnt_il             140 non-null float64\n",
      "total_bal_il                   144 non-null float64\n",
      "il_util                        126 non-null float64\n",
      "open_rv_12m                    144 non-null float64\n",
      "open_rv_24m                    144 non-null float64\n",
      "max_bal_bc                     144 non-null float64\n",
      "all_util                       144 non-null float64\n",
      "total_rev_hi_lim               190464 non-null float64\n",
      "inq_fi                         144 non-null float64\n",
      "total_cu_tl                    144 non-null float64\n",
      "inq_last_12m                   144 non-null float64\n",
      "dtypes: category(7), datetime64[ns](1), float64(46), int64(1)\n",
      "memory usage: 97.8 MB\n"
     ]
    }
   ],
   "source": [
    "df.info()"
   ]
  },
  {
   "cell_type": "code",
   "execution_count": 503,
   "metadata": {},
   "outputs": [
    {
     "data": {
      "text/html": [
       "<div>\n",
       "<style>\n",
       "    .dataframe thead tr:only-child th {\n",
       "        text-align: right;\n",
       "    }\n",
       "\n",
       "    .dataframe thead th {\n",
       "        text-align: left;\n",
       "    }\n",
       "\n",
       "    .dataframe tbody tr th {\n",
       "        vertical-align: top;\n",
       "    }\n",
       "</style>\n",
       "<table border=\"1\" class=\"dataframe\">\n",
       "  <thead>\n",
       "    <tr style=\"text-align: right;\">\n",
       "      <th></th>\n",
       "      <th>loan_amnt</th>\n",
       "      <th>funded_amnt</th>\n",
       "      <th>funded_amnt_inv</th>\n",
       "      <th>term</th>\n",
       "      <th>int_rate</th>\n",
       "      <th>installment</th>\n",
       "      <th>grade</th>\n",
       "      <th>sub_grade</th>\n",
       "      <th>emp_length</th>\n",
       "      <th>home_ownership</th>\n",
       "      <th>...</th>\n",
       "      <th>total_bal_il</th>\n",
       "      <th>il_util</th>\n",
       "      <th>open_rv_12m</th>\n",
       "      <th>open_rv_24m</th>\n",
       "      <th>max_bal_bc</th>\n",
       "      <th>all_util</th>\n",
       "      <th>total_rev_hi_lim</th>\n",
       "      <th>inq_fi</th>\n",
       "      <th>total_cu_tl</th>\n",
       "      <th>inq_last_12m</th>\n",
       "    </tr>\n",
       "    <tr>\n",
       "      <th>id</th>\n",
       "      <th></th>\n",
       "      <th></th>\n",
       "      <th></th>\n",
       "      <th></th>\n",
       "      <th></th>\n",
       "      <th></th>\n",
       "      <th></th>\n",
       "      <th></th>\n",
       "      <th></th>\n",
       "      <th></th>\n",
       "      <th></th>\n",
       "      <th></th>\n",
       "      <th></th>\n",
       "      <th></th>\n",
       "      <th></th>\n",
       "      <th></th>\n",
       "      <th></th>\n",
       "      <th></th>\n",
       "      <th></th>\n",
       "      <th></th>\n",
       "      <th></th>\n",
       "    </tr>\n",
       "  </thead>\n",
       "  <tbody>\n",
       "    <tr>\n",
       "      <th>1077501</th>\n",
       "      <td>5000.0</td>\n",
       "      <td>5000.0</td>\n",
       "      <td>4975.0</td>\n",
       "      <td>36</td>\n",
       "      <td>10.65</td>\n",
       "      <td>162.87</td>\n",
       "      <td>2</td>\n",
       "      <td>7</td>\n",
       "      <td>10</td>\n",
       "      <td>1</td>\n",
       "      <td>...</td>\n",
       "      <td>NaN</td>\n",
       "      <td>NaN</td>\n",
       "      <td>NaN</td>\n",
       "      <td>NaN</td>\n",
       "      <td>NaN</td>\n",
       "      <td>NaN</td>\n",
       "      <td>NaN</td>\n",
       "      <td>NaN</td>\n",
       "      <td>NaN</td>\n",
       "      <td>NaN</td>\n",
       "    </tr>\n",
       "    <tr>\n",
       "      <th>1077430</th>\n",
       "      <td>2500.0</td>\n",
       "      <td>2500.0</td>\n",
       "      <td>2500.0</td>\n",
       "      <td>60</td>\n",
       "      <td>15.27</td>\n",
       "      <td>59.83</td>\n",
       "      <td>3</td>\n",
       "      <td>14</td>\n",
       "      <td>0</td>\n",
       "      <td>1</td>\n",
       "      <td>...</td>\n",
       "      <td>NaN</td>\n",
       "      <td>NaN</td>\n",
       "      <td>NaN</td>\n",
       "      <td>NaN</td>\n",
       "      <td>NaN</td>\n",
       "      <td>NaN</td>\n",
       "      <td>NaN</td>\n",
       "      <td>NaN</td>\n",
       "      <td>NaN</td>\n",
       "      <td>NaN</td>\n",
       "    </tr>\n",
       "    <tr>\n",
       "      <th>1077175</th>\n",
       "      <td>2400.0</td>\n",
       "      <td>2400.0</td>\n",
       "      <td>2400.0</td>\n",
       "      <td>36</td>\n",
       "      <td>15.96</td>\n",
       "      <td>84.33</td>\n",
       "      <td>3</td>\n",
       "      <td>15</td>\n",
       "      <td>10</td>\n",
       "      <td>1</td>\n",
       "      <td>...</td>\n",
       "      <td>NaN</td>\n",
       "      <td>NaN</td>\n",
       "      <td>NaN</td>\n",
       "      <td>NaN</td>\n",
       "      <td>NaN</td>\n",
       "      <td>NaN</td>\n",
       "      <td>NaN</td>\n",
       "      <td>NaN</td>\n",
       "      <td>NaN</td>\n",
       "      <td>NaN</td>\n",
       "    </tr>\n",
       "    <tr>\n",
       "      <th>1076863</th>\n",
       "      <td>10000.0</td>\n",
       "      <td>10000.0</td>\n",
       "      <td>10000.0</td>\n",
       "      <td>36</td>\n",
       "      <td>13.49</td>\n",
       "      <td>339.31</td>\n",
       "      <td>3</td>\n",
       "      <td>11</td>\n",
       "      <td>10</td>\n",
       "      <td>1</td>\n",
       "      <td>...</td>\n",
       "      <td>NaN</td>\n",
       "      <td>NaN</td>\n",
       "      <td>NaN</td>\n",
       "      <td>NaN</td>\n",
       "      <td>NaN</td>\n",
       "      <td>NaN</td>\n",
       "      <td>NaN</td>\n",
       "      <td>NaN</td>\n",
       "      <td>NaN</td>\n",
       "      <td>NaN</td>\n",
       "    </tr>\n",
       "    <tr>\n",
       "      <th>1075269</th>\n",
       "      <td>5000.0</td>\n",
       "      <td>5000.0</td>\n",
       "      <td>5000.0</td>\n",
       "      <td>36</td>\n",
       "      <td>7.90</td>\n",
       "      <td>156.46</td>\n",
       "      <td>1</td>\n",
       "      <td>4</td>\n",
       "      <td>3</td>\n",
       "      <td>1</td>\n",
       "      <td>...</td>\n",
       "      <td>NaN</td>\n",
       "      <td>NaN</td>\n",
       "      <td>NaN</td>\n",
       "      <td>NaN</td>\n",
       "      <td>NaN</td>\n",
       "      <td>NaN</td>\n",
       "      <td>NaN</td>\n",
       "      <td>NaN</td>\n",
       "      <td>NaN</td>\n",
       "      <td>NaN</td>\n",
       "    </tr>\n",
       "  </tbody>\n",
       "</table>\n",
       "<p>5 rows × 55 columns</p>\n",
       "</div>"
      ],
      "text/plain": [
       "         loan_amnt  funded_amnt  funded_amnt_inv  term  int_rate  installment  \\\n",
       "id                                                                              \n",
       "1077501     5000.0       5000.0           4975.0    36     10.65       162.87   \n",
       "1077430     2500.0       2500.0           2500.0    60     15.27        59.83   \n",
       "1077175     2400.0       2400.0           2400.0    36     15.96        84.33   \n",
       "1076863    10000.0      10000.0          10000.0    36     13.49       339.31   \n",
       "1075269     5000.0       5000.0           5000.0    36      7.90       156.46   \n",
       "\n",
       "        grade sub_grade emp_length home_ownership      ...       total_bal_il  \\\n",
       "id                                                     ...                      \n",
       "1077501     2         7         10              1      ...                NaN   \n",
       "1077430     3        14          0              1      ...                NaN   \n",
       "1077175     3        15         10              1      ...                NaN   \n",
       "1076863     3        11         10              1      ...                NaN   \n",
       "1075269     1         4          3              1      ...                NaN   \n",
       "\n",
       "        il_util open_rv_12m open_rv_24m  max_bal_bc  all_util  \\\n",
       "id                                                              \n",
       "1077501     NaN         NaN         NaN         NaN       NaN   \n",
       "1077430     NaN         NaN         NaN         NaN       NaN   \n",
       "1077175     NaN         NaN         NaN         NaN       NaN   \n",
       "1076863     NaN         NaN         NaN         NaN       NaN   \n",
       "1075269     NaN         NaN         NaN         NaN       NaN   \n",
       "\n",
       "        total_rev_hi_lim  inq_fi  total_cu_tl  inq_last_12m  \n",
       "id                                                           \n",
       "1077501              NaN     NaN          NaN           NaN  \n",
       "1077430              NaN     NaN          NaN           NaN  \n",
       "1077175              NaN     NaN          NaN           NaN  \n",
       "1076863              NaN     NaN          NaN           NaN  \n",
       "1075269              NaN     NaN          NaN           NaN  \n",
       "\n",
       "[5 rows x 55 columns]"
      ]
     },
     "execution_count": 503,
     "metadata": {},
     "output_type": "execute_result"
    }
   ],
   "source": [
    "df.head()"
   ]
  },
  {
   "cell_type": "code",
   "execution_count": 504,
   "metadata": {},
   "outputs": [
    {
     "data": {
      "text/plain": [
       "1914"
      ]
     },
     "execution_count": 504,
     "metadata": {},
     "output_type": "execute_result"
    }
   ],
   "source": [
    "sum(df.loan_amnt != df.funded_amnt)"
   ]
  },
  {
   "cell_type": "code",
   "execution_count": 505,
   "metadata": {},
   "outputs": [
    {
     "data": {
      "text/plain": [
       "46553"
      ]
     },
     "execution_count": 505,
     "metadata": {},
     "output_type": "execute_result"
    }
   ],
   "source": [
    "sum(df.funded_amnt != df.funded_amnt_inv)"
   ]
  },
  {
   "cell_type": "code",
   "execution_count": 506,
   "metadata": {},
   "outputs": [
    {
     "data": {
      "text/plain": [
       "30665038.139082015"
      ]
     },
     "execution_count": 506,
     "metadata": {},
     "output_type": "execute_result"
    }
   ],
   "source": [
    "sum(df.funded_amnt - df.funded_amnt_inv)"
   ]
  },
  {
   "cell_type": "code",
   "execution_count": 507,
   "metadata": {},
   "outputs": [
    {
     "data": {
      "text/plain": [
       "10822350.0"
      ]
     },
     "execution_count": 507,
     "metadata": {},
     "output_type": "execute_result"
    }
   ],
   "source": [
    "sum(df.loan_amnt - df.funded_amnt)"
   ]
  },
  {
   "cell_type": "code",
   "execution_count": 508,
   "metadata": {},
   "outputs": [
    {
     "data": {
      "text/html": [
       "<div>\n",
       "<style>\n",
       "    .dataframe thead tr:only-child th {\n",
       "        text-align: right;\n",
       "    }\n",
       "\n",
       "    .dataframe thead th {\n",
       "        text-align: left;\n",
       "    }\n",
       "\n",
       "    .dataframe tbody tr th {\n",
       "        vertical-align: top;\n",
       "    }\n",
       "</style>\n",
       "<table border=\"1\" class=\"dataframe\">\n",
       "  <thead>\n",
       "    <tr style=\"text-align: right;\">\n",
       "      <th></th>\n",
       "      <th>loan_amnt</th>\n",
       "      <th>funded_amnt</th>\n",
       "      <th>funded_amnt_inv</th>\n",
       "      <th>term</th>\n",
       "      <th>int_rate</th>\n",
       "      <th>installment</th>\n",
       "      <th>annual_inc</th>\n",
       "      <th>dti</th>\n",
       "      <th>delinq_2yrs</th>\n",
       "      <th>inq_last_6mths</th>\n",
       "      <th>...</th>\n",
       "      <th>total_bal_il</th>\n",
       "      <th>il_util</th>\n",
       "      <th>open_rv_12m</th>\n",
       "      <th>open_rv_24m</th>\n",
       "      <th>max_bal_bc</th>\n",
       "      <th>all_util</th>\n",
       "      <th>total_rev_hi_lim</th>\n",
       "      <th>inq_fi</th>\n",
       "      <th>total_cu_tl</th>\n",
       "      <th>inq_last_12m</th>\n",
       "    </tr>\n",
       "  </thead>\n",
       "  <tbody>\n",
       "    <tr>\n",
       "      <th>count</th>\n",
       "      <td>256939.000000</td>\n",
       "      <td>256939.000000</td>\n",
       "      <td>256939.000000</td>\n",
       "      <td>256939.000000</td>\n",
       "      <td>256939.000000</td>\n",
       "      <td>256939.000000</td>\n",
       "      <td>2.569350e+05</td>\n",
       "      <td>256939.000000</td>\n",
       "      <td>256910.000000</td>\n",
       "      <td>256910.000000</td>\n",
       "      <td>...</td>\n",
       "      <td>144.000000</td>\n",
       "      <td>126.000000</td>\n",
       "      <td>144.000000</td>\n",
       "      <td>144.000000</td>\n",
       "      <td>144.000000</td>\n",
       "      <td>144.000000</td>\n",
       "      <td>1.904640e+05</td>\n",
       "      <td>144.000000</td>\n",
       "      <td>144.000000</td>\n",
       "      <td>144.000000</td>\n",
       "    </tr>\n",
       "    <tr>\n",
       "      <th>mean</th>\n",
       "      <td>13522.115950</td>\n",
       "      <td>13479.995641</td>\n",
       "      <td>13360.648099</td>\n",
       "      <td>41.336177</td>\n",
       "      <td>13.780014</td>\n",
       "      <td>416.923016</td>\n",
       "      <td>7.249885e+04</td>\n",
       "      <td>16.534986</td>\n",
       "      <td>0.250411</td>\n",
       "      <td>0.887821</td>\n",
       "      <td>...</td>\n",
       "      <td>36462.312500</td>\n",
       "      <td>73.657937</td>\n",
       "      <td>1.673611</td>\n",
       "      <td>3.555556</td>\n",
       "      <td>5517.340278</td>\n",
       "      <td>58.945139</td>\n",
       "      <td>2.969485e+04</td>\n",
       "      <td>1.256944</td>\n",
       "      <td>2.097222</td>\n",
       "      <td>2.625000</td>\n",
       "    </tr>\n",
       "    <tr>\n",
       "      <th>std</th>\n",
       "      <td>8128.811481</td>\n",
       "      <td>8106.456843</td>\n",
       "      <td>8141.904114</td>\n",
       "      <td>9.979672</td>\n",
       "      <td>4.389704</td>\n",
       "      <td>244.878760</td>\n",
       "      <td>5.890043e+04</td>\n",
       "      <td>7.793541</td>\n",
       "      <td>0.742431</td>\n",
       "      <td>1.158745</td>\n",
       "      <td>...</td>\n",
       "      <td>38137.563875</td>\n",
       "      <td>23.074812</td>\n",
       "      <td>1.629406</td>\n",
       "      <td>2.932284</td>\n",
       "      <td>4507.604776</td>\n",
       "      <td>20.356957</td>\n",
       "      <td>2.949980e+04</td>\n",
       "      <td>1.792551</td>\n",
       "      <td>3.903234</td>\n",
       "      <td>4.057067</td>\n",
       "    </tr>\n",
       "    <tr>\n",
       "      <th>min</th>\n",
       "      <td>500.000000</td>\n",
       "      <td>500.000000</td>\n",
       "      <td>0.000000</td>\n",
       "      <td>36.000000</td>\n",
       "      <td>5.320000</td>\n",
       "      <td>15.670000</td>\n",
       "      <td>1.896000e+03</td>\n",
       "      <td>0.000000</td>\n",
       "      <td>0.000000</td>\n",
       "      <td>0.000000</td>\n",
       "      <td>...</td>\n",
       "      <td>0.000000</td>\n",
       "      <td>0.000000</td>\n",
       "      <td>0.000000</td>\n",
       "      <td>0.000000</td>\n",
       "      <td>0.000000</td>\n",
       "      <td>7.900000</td>\n",
       "      <td>0.000000e+00</td>\n",
       "      <td>0.000000</td>\n",
       "      <td>0.000000</td>\n",
       "      <td>-4.000000</td>\n",
       "    </tr>\n",
       "    <tr>\n",
       "      <th>25%</th>\n",
       "      <td>7200.000000</td>\n",
       "      <td>7200.000000</td>\n",
       "      <td>7100.000000</td>\n",
       "      <td>36.000000</td>\n",
       "      <td>10.740000</td>\n",
       "      <td>238.130000</td>\n",
       "      <td>4.500000e+04</td>\n",
       "      <td>10.740000</td>\n",
       "      <td>0.000000</td>\n",
       "      <td>0.000000</td>\n",
       "      <td>...</td>\n",
       "      <td>10763.750000</td>\n",
       "      <td>63.350000</td>\n",
       "      <td>0.000000</td>\n",
       "      <td>2.000000</td>\n",
       "      <td>2091.250000</td>\n",
       "      <td>46.825000</td>\n",
       "      <td>1.330000e+04</td>\n",
       "      <td>0.000000</td>\n",
       "      <td>0.000000</td>\n",
       "      <td>1.000000</td>\n",
       "    </tr>\n",
       "    <tr>\n",
       "      <th>50%</th>\n",
       "      <td>12000.000000</td>\n",
       "      <td>12000.000000</td>\n",
       "      <td>11950.000000</td>\n",
       "      <td>36.000000</td>\n",
       "      <td>13.550000</td>\n",
       "      <td>364.290000</td>\n",
       "      <td>6.200000e+04</td>\n",
       "      <td>16.200000</td>\n",
       "      <td>0.000000</td>\n",
       "      <td>1.000000</td>\n",
       "      <td>...</td>\n",
       "      <td>23605.000000</td>\n",
       "      <td>77.050000</td>\n",
       "      <td>1.000000</td>\n",
       "      <td>3.000000</td>\n",
       "      <td>4511.500000</td>\n",
       "      <td>61.950000</td>\n",
       "      <td>2.230000e+04</td>\n",
       "      <td>1.000000</td>\n",
       "      <td>0.000000</td>\n",
       "      <td>2.000000</td>\n",
       "    </tr>\n",
       "    <tr>\n",
       "      <th>75%</th>\n",
       "      <td>18200.000000</td>\n",
       "      <td>18000.000000</td>\n",
       "      <td>18000.000000</td>\n",
       "      <td>36.000000</td>\n",
       "      <td>16.550000</td>\n",
       "      <td>546.430000</td>\n",
       "      <td>8.700000e+04</td>\n",
       "      <td>21.990000</td>\n",
       "      <td>0.000000</td>\n",
       "      <td>1.000000</td>\n",
       "      <td>...</td>\n",
       "      <td>50835.750000</td>\n",
       "      <td>88.250000</td>\n",
       "      <td>2.000000</td>\n",
       "      <td>5.000000</td>\n",
       "      <td>8212.750000</td>\n",
       "      <td>74.225000</td>\n",
       "      <td>3.680000e+04</td>\n",
       "      <td>1.000000</td>\n",
       "      <td>2.000000</td>\n",
       "      <td>4.000000</td>\n",
       "    </tr>\n",
       "    <tr>\n",
       "      <th>max</th>\n",
       "      <td>35000.000000</td>\n",
       "      <td>35000.000000</td>\n",
       "      <td>35000.000000</td>\n",
       "      <td>60.000000</td>\n",
       "      <td>28.990000</td>\n",
       "      <td>1424.570000</td>\n",
       "      <td>8.706582e+06</td>\n",
       "      <td>57.140000</td>\n",
       "      <td>29.000000</td>\n",
       "      <td>33.000000</td>\n",
       "      <td>...</td>\n",
       "      <td>249212.000000</td>\n",
       "      <td>129.200000</td>\n",
       "      <td>8.000000</td>\n",
       "      <td>21.000000</td>\n",
       "      <td>22279.000000</td>\n",
       "      <td>102.800000</td>\n",
       "      <td>2.013133e+06</td>\n",
       "      <td>9.000000</td>\n",
       "      <td>21.000000</td>\n",
       "      <td>19.000000</td>\n",
       "    </tr>\n",
       "  </tbody>\n",
       "</table>\n",
       "<p>8 rows × 47 columns</p>\n",
       "</div>"
      ],
      "text/plain": [
       "           loan_amnt    funded_amnt  funded_amnt_inv           term  \\\n",
       "count  256939.000000  256939.000000    256939.000000  256939.000000   \n",
       "mean    13522.115950   13479.995641     13360.648099      41.336177   \n",
       "std      8128.811481    8106.456843      8141.904114       9.979672   \n",
       "min       500.000000     500.000000         0.000000      36.000000   \n",
       "25%      7200.000000    7200.000000      7100.000000      36.000000   \n",
       "50%     12000.000000   12000.000000     11950.000000      36.000000   \n",
       "75%     18200.000000   18000.000000     18000.000000      36.000000   \n",
       "max     35000.000000   35000.000000     35000.000000      60.000000   \n",
       "\n",
       "            int_rate    installment    annual_inc            dti  \\\n",
       "count  256939.000000  256939.000000  2.569350e+05  256939.000000   \n",
       "mean       13.780014     416.923016  7.249885e+04      16.534986   \n",
       "std         4.389704     244.878760  5.890043e+04       7.793541   \n",
       "min         5.320000      15.670000  1.896000e+03       0.000000   \n",
       "25%        10.740000     238.130000  4.500000e+04      10.740000   \n",
       "50%        13.550000     364.290000  6.200000e+04      16.200000   \n",
       "75%        16.550000     546.430000  8.700000e+04      21.990000   \n",
       "max        28.990000    1424.570000  8.706582e+06      57.140000   \n",
       "\n",
       "         delinq_2yrs  inq_last_6mths      ...        total_bal_il     il_util  \\\n",
       "count  256910.000000   256910.000000      ...          144.000000  126.000000   \n",
       "mean        0.250411        0.887821      ...        36462.312500   73.657937   \n",
       "std         0.742431        1.158745      ...        38137.563875   23.074812   \n",
       "min         0.000000        0.000000      ...            0.000000    0.000000   \n",
       "25%         0.000000        0.000000      ...        10763.750000   63.350000   \n",
       "50%         0.000000        1.000000      ...        23605.000000   77.050000   \n",
       "75%         0.000000        1.000000      ...        50835.750000   88.250000   \n",
       "max        29.000000       33.000000      ...       249212.000000  129.200000   \n",
       "\n",
       "       open_rv_12m  open_rv_24m    max_bal_bc    all_util  total_rev_hi_lim  \\\n",
       "count   144.000000   144.000000    144.000000  144.000000      1.904640e+05   \n",
       "mean      1.673611     3.555556   5517.340278   58.945139      2.969485e+04   \n",
       "std       1.629406     2.932284   4507.604776   20.356957      2.949980e+04   \n",
       "min       0.000000     0.000000      0.000000    7.900000      0.000000e+00   \n",
       "25%       0.000000     2.000000   2091.250000   46.825000      1.330000e+04   \n",
       "50%       1.000000     3.000000   4511.500000   61.950000      2.230000e+04   \n",
       "75%       2.000000     5.000000   8212.750000   74.225000      3.680000e+04   \n",
       "max       8.000000    21.000000  22279.000000  102.800000      2.013133e+06   \n",
       "\n",
       "           inq_fi  total_cu_tl  inq_last_12m  \n",
       "count  144.000000   144.000000    144.000000  \n",
       "mean     1.256944     2.097222      2.625000  \n",
       "std      1.792551     3.903234      4.057067  \n",
       "min      0.000000     0.000000     -4.000000  \n",
       "25%      0.000000     0.000000      1.000000  \n",
       "50%      1.000000     0.000000      2.000000  \n",
       "75%      1.000000     2.000000      4.000000  \n",
       "max      9.000000    21.000000     19.000000  \n",
       "\n",
       "[8 rows x 47 columns]"
      ]
     },
     "execution_count": 508,
     "metadata": {},
     "output_type": "execute_result"
    }
   ],
   "source": [
    "df.describe()"
   ]
  },
  {
   "cell_type": "code",
   "execution_count": 509,
   "metadata": {
    "collapsed": true
   },
   "outputs": [],
   "source": [
    "df = df.drop(['loan_amnt', 'funded_amnt_inv'], axis=1)"
   ]
  },
  {
   "cell_type": "code",
   "execution_count": 510,
   "metadata": {},
   "outputs": [
    {
     "data": {
      "text/plain": [
       "count    2.569350e+05\n",
       "mean     7.249885e+04\n",
       "std      5.890043e+04\n",
       "min      1.896000e+03\n",
       "25%      4.500000e+04\n",
       "50%      6.200000e+04\n",
       "75%      8.700000e+04\n",
       "max      8.706582e+06\n",
       "Name: annual_inc, dtype: float64"
      ]
     },
     "execution_count": 510,
     "metadata": {},
     "output_type": "execute_result"
    }
   ],
   "source": [
    "# inspecting missing values of annual income column\n",
    "df.annual_inc.describe()"
   ]
  },
  {
   "cell_type": "code",
   "execution_count": 511,
   "metadata": {},
   "outputs": [
    {
     "data": {
      "text/plain": [
       "id\n",
       "1077501    24000.0\n",
       "1077430    30000.0\n",
       "1077175    12252.0\n",
       "1076863    49200.0\n",
       "1075269    36000.0\n",
       "Name: annual_inc, dtype: float64"
      ]
     },
     "execution_count": 511,
     "metadata": {},
     "output_type": "execute_result"
    }
   ],
   "source": [
    "df.annual_inc.head()"
   ]
  },
  {
   "cell_type": "code",
   "execution_count": 512,
   "metadata": {},
   "outputs": [
    {
     "data": {
      "text/plain": [
       "62000.0"
      ]
     },
     "execution_count": 512,
     "metadata": {},
     "output_type": "execute_result"
    }
   ],
   "source": [
    "df.annual_inc.median()"
   ]
  },
  {
   "cell_type": "code",
   "execution_count": 513,
   "metadata": {
    "collapsed": true
   },
   "outputs": [],
   "source": [
    "# filling in annula income null values w median\n",
    "df.annual_inc.fillna(df.annual_inc.median(), inplace=True)"
   ]
  },
  {
   "cell_type": "code",
   "execution_count": 514,
   "metadata": {},
   "outputs": [
    {
     "data": {
      "text/plain": [
       "count    256910.000000\n",
       "mean          0.250411\n",
       "std           0.742431\n",
       "min           0.000000\n",
       "25%           0.000000\n",
       "50%           0.000000\n",
       "75%           0.000000\n",
       "max          29.000000\n",
       "Name: delinq_2yrs, dtype: float64"
      ]
     },
     "execution_count": 514,
     "metadata": {},
     "output_type": "execute_result"
    }
   ],
   "source": [
    "# inspecting missing values\n",
    "df.delinq_2yrs.describe()"
   ]
  },
  {
   "cell_type": "code",
   "execution_count": 515,
   "metadata": {},
   "outputs": [
    {
     "data": {
      "text/plain": [
       "id\n",
       "1077501    0.0\n",
       "1077430    0.0\n",
       "1077175    0.0\n",
       "1076863    0.0\n",
       "1075269    0.0\n",
       "Name: delinq_2yrs, dtype: float64"
      ]
     },
     "execution_count": 515,
     "metadata": {},
     "output_type": "execute_result"
    }
   ],
   "source": [
    "df.delinq_2yrs.head()"
   ]
  },
  {
   "cell_type": "code",
   "execution_count": 516,
   "metadata": {},
   "outputs": [
    {
     "data": {
      "text/plain": [
       "count                  256910\n",
       "unique                    646\n",
       "top       2000-10-01 00:00:00\n",
       "freq                     2143\n",
       "first     1946-01-01 00:00:00\n",
       "last      2012-10-01 00:00:00\n",
       "Name: earliest_cr_line, dtype: object"
      ]
     },
     "execution_count": 516,
     "metadata": {},
     "output_type": "execute_result"
    }
   ],
   "source": [
    "df.earliest_cr_line.describe()"
   ]
  },
  {
   "cell_type": "code",
   "execution_count": 517,
   "metadata": {
    "collapsed": true
   },
   "outputs": [],
   "source": [
    "# filling values with most frequent time stamp\n",
    "df.earliest_cr_line = df.earliest_cr_line.fillna('2000-10-01 00:00:00')"
   ]
  },
  {
   "cell_type": "code",
   "execution_count": 518,
   "metadata": {},
   "outputs": [
    {
     "data": {
      "text/plain": [
       "count    114294.000000\n",
       "mean         35.059259\n",
       "std          21.861345\n",
       "min           0.000000\n",
       "25%          17.000000\n",
       "50%          32.000000\n",
       "75%          51.000000\n",
       "max         152.000000\n",
       "Name: mths_since_last_delinq, dtype: float64"
      ]
     },
     "execution_count": 518,
     "metadata": {},
     "output_type": "execute_result"
    }
   ],
   "source": [
    "df.mths_since_last_delinq.describe()"
   ]
  },
  {
   "cell_type": "code",
   "execution_count": 519,
   "metadata": {},
   "outputs": [
    {
     "data": {
      "text/plain": [
       "id\n",
       "1077501     NaN\n",
       "1077430     NaN\n",
       "1077175     NaN\n",
       "1076863    35.0\n",
       "1075269     NaN\n",
       "Name: mths_since_last_delinq, dtype: float64"
      ]
     },
     "execution_count": 519,
     "metadata": {},
     "output_type": "execute_result"
    }
   ],
   "source": [
    "df.mths_since_last_delinq.head()"
   ]
  },
  {
   "cell_type": "code",
   "execution_count": 520,
   "metadata": {
    "collapsed": true
   },
   "outputs": [],
   "source": [
    "# filling null values with 0\n",
    "df.mths_since_last_delinq = df.mths_since_last_delinq.fillna(0)"
   ]
  },
  {
   "cell_type": "code",
   "execution_count": 521,
   "metadata": {
    "collapsed": true
   },
   "outputs": [],
   "source": [
    "# filling null values with 0\n",
    "df.mths_since_last_record = df.mths_since_last_record.fillna(0)"
   ]
  },
  {
   "cell_type": "code",
   "execution_count": 522,
   "metadata": {
    "collapsed": true
   },
   "outputs": [],
   "source": [
    "# filling null values with 0\n",
    "df.collections_12_mths_ex_med = df.collections_12_mths_ex_med.fillna(0)"
   ]
  },
  {
   "cell_type": "code",
   "execution_count": 523,
   "metadata": {
    "collapsed": true
   },
   "outputs": [],
   "source": [
    "# filling null values with 0\n",
    "df.mths_since_last_major_derog = df.mths_since_last_major_derog.fillna(0)"
   ]
  },
  {
   "cell_type": "code",
   "execution_count": 524,
   "metadata": {
    "collapsed": true
   },
   "outputs": [],
   "source": [
    "df.tot_coll_amt = df.tot_coll_amt.fillna(0)"
   ]
  },
  {
   "cell_type": "code",
   "execution_count": 525,
   "metadata": {},
   "outputs": [
    {
     "data": {
      "text/plain": [
       "count    1.904640e+05\n",
       "mean     1.381605e+05\n",
       "std      1.523284e+05\n",
       "min      0.000000e+00\n",
       "25%      2.835575e+04\n",
       "50%      8.076050e+04\n",
       "75%      2.079905e+05\n",
       "max      8.000078e+06\n",
       "Name: tot_cur_bal, dtype: float64"
      ]
     },
     "execution_count": 525,
     "metadata": {},
     "output_type": "execute_result"
    }
   ],
   "source": [
    "df.tot_cur_bal.describe()"
   ]
  },
  {
   "cell_type": "code",
   "execution_count": 526,
   "metadata": {},
   "outputs": [
    {
     "data": {
      "text/plain": [
       "80760.5"
      ]
     },
     "execution_count": 526,
     "metadata": {},
     "output_type": "execute_result"
    }
   ],
   "source": [
    "df.tot_cur_bal.median()"
   ]
  },
  {
   "cell_type": "code",
   "execution_count": 527,
   "metadata": {},
   "outputs": [
    {
     "data": {
      "text/plain": [
       "138160.4572937668"
      ]
     },
     "execution_count": 527,
     "metadata": {},
     "output_type": "execute_result"
    }
   ],
   "source": [
    "df.tot_cur_bal.mean()"
   ]
  },
  {
   "cell_type": "code",
   "execution_count": 528,
   "metadata": {},
   "outputs": [
    {
     "data": {
      "text/plain": [
       "50"
      ]
     },
     "execution_count": 528,
     "metadata": {},
     "output_type": "execute_result"
    }
   ],
   "source": [
    "(df.tot_cur_bal == 0).sum()"
   ]
  },
  {
   "cell_type": "code",
   "execution_count": 529,
   "metadata": {
    "collapsed": true
   },
   "outputs": [],
   "source": [
    "df.tot_cur_bal = df.tot_cur_bal.fillna(0)"
   ]
  },
  {
   "cell_type": "code",
   "execution_count": 530,
   "metadata": {
    "collapsed": true
   },
   "outputs": [],
   "source": [
    "df.open_acc_6m = df.open_acc_6m.fillna(0)\n",
    "df.open_il_6m = df.open_il_6m.fillna(0)\n",
    "df.open_il_12m = df.open_il_12m.fillna(0)\n",
    "df.open_il_24m = df.open_il_24m.fillna(0)"
   ]
  },
  {
   "cell_type": "code",
   "execution_count": 531,
   "metadata": {},
   "outputs": [
    {
     "data": {
      "text/plain": [
       "count    1.904640e+05\n",
       "mean     2.969485e+04\n",
       "std      2.949980e+04\n",
       "min      0.000000e+00\n",
       "25%      1.330000e+04\n",
       "50%      2.230000e+04\n",
       "75%      3.680000e+04\n",
       "max      2.013133e+06\n",
       "Name: total_rev_hi_lim, dtype: float64"
      ]
     },
     "execution_count": 531,
     "metadata": {},
     "output_type": "execute_result"
    }
   ],
   "source": [
    "df.total_rev_hi_lim.describe()"
   ]
  },
  {
   "cell_type": "code",
   "execution_count": 532,
   "metadata": {},
   "outputs": [
    {
     "data": {
      "text/plain": [
       "87"
      ]
     },
     "execution_count": 532,
     "metadata": {},
     "output_type": "execute_result"
    }
   ],
   "source": [
    "(df.total_rev_hi_lim == 0).sum()"
   ]
  },
  {
   "cell_type": "code",
   "execution_count": 533,
   "metadata": {
    "collapsed": true
   },
   "outputs": [],
   "source": [
    "df.total_rev_hi_lim = df.total_rev_hi_lim.fillna(0)"
   ]
  },
  {
   "cell_type": "code",
   "execution_count": 534,
   "metadata": {
    "collapsed": true
   },
   "outputs": [],
   "source": [
    "df.mths_since_rcnt_il = df.mths_since_rcnt_il.fillna(0)\n",
    "df.total_bal_il = df.total_bal_il.fillna(0)\n",
    "df.il_util = df.il_util.fillna(0)\n",
    "df.open_rv_12m = df.open_rv_12m.fillna(0)\n",
    "df.open_rv_24m = df.open_rv_24m.fillna(0)\n",
    "df.max_bal_bc = df.max_bal_bc.fillna(0)\n",
    "df.all_util = df.all_util.fillna(0)\n",
    "df.inq_fi = df.inq_fi.fillna(0)\n",
    "df.total_cu_tl = df.total_cu_tl.fillna(0)\n",
    "df.inq_last_12m = df.inq_last_12m.fillna(0)"
   ]
  },
  {
   "cell_type": "code",
   "execution_count": 535,
   "metadata": {
    "collapsed": true
   },
   "outputs": [],
   "source": [
    "df.delinq_2yrs = df.delinq_2yrs.fillna(0)\n",
    "df.inq_last_6mths = df.inq_last_6mths.fillna(0)\n",
    "df.open_acc = df.open_acc.fillna(0)\n",
    "df.pub_rec = df.pub_rec.fillna(0)\n",
    "df.total_acc = df.total_acc.fillna(0)\n",
    "df.acc_now_delinq = df.acc_now_delinq.fillna(0)"
   ]
  },
  {
   "cell_type": "code",
   "execution_count": 536,
   "metadata": {},
   "outputs": [
    {
     "data": {
      "text/plain": [
       "count                  256939\n",
       "unique                    647\n",
       "top       2000-10-01 00:00:00\n",
       "freq                     2143\n",
       "Name: earliest_cr_line, dtype: object"
      ]
     },
     "execution_count": 536,
     "metadata": {},
     "output_type": "execute_result"
    }
   ],
   "source": [
    "df.earliest_cr_line.describe()"
   ]
  },
  {
   "cell_type": "code",
   "execution_count": 537,
   "metadata": {},
   "outputs": [
    {
     "data": {
      "text/plain": [
       "id\n",
       "1077501    1985-01-01 00:00:00\n",
       "1077430    1999-04-01 00:00:00\n",
       "1077175    2001-11-01 00:00:00\n",
       "1076863    1996-02-01 00:00:00\n",
       "1075269    2004-11-01 00:00:00\n",
       "Name: earliest_cr_line, dtype: object"
      ]
     },
     "execution_count": 537,
     "metadata": {},
     "output_type": "execute_result"
    }
   ],
   "source": [
    "df.earliest_cr_line.head()"
   ]
  },
  {
   "cell_type": "code",
   "execution_count": 538,
   "metadata": {
    "collapsed": true
   },
   "outputs": [],
   "source": [
    " df.earliest_cr_line = pd.to_datetime(df.earliest_cr_line).astype('int')"
   ]
  },
  {
   "cell_type": "code",
   "execution_count": 539,
   "metadata": {},
   "outputs": [
    {
     "data": {
      "text/plain": [
       "id\n",
       "1077501     473385600000000000\n",
       "1077430     922924800000000000\n",
       "1077175    1004572800000000000\n",
       "1076863     823132800000000000\n",
       "1075269    1099267200000000000\n",
       "Name: earliest_cr_line, dtype: int64"
      ]
     },
     "execution_count": 539,
     "metadata": {},
     "output_type": "execute_result"
    }
   ],
   "source": [
    "df.earliest_cr_line.head()"
   ]
  },
  {
   "cell_type": "code",
   "execution_count": 540,
   "metadata": {},
   "outputs": [
    {
     "name": "stdout",
     "output_type": "stream",
     "text": [
      "<class 'pandas.core.frame.DataFrame'>\n",
      "Int64Index: 256939 entries, 1077501 to 36260758\n",
      "Data columns (total 53 columns):\n",
      "funded_amnt                    256939 non-null float64\n",
      "term                           256939 non-null int64\n",
      "int_rate                       256939 non-null float64\n",
      "installment                    256939 non-null float64\n",
      "grade                          256939 non-null category\n",
      "sub_grade                      256939 non-null category\n",
      "emp_length                     256939 non-null category\n",
      "home_ownership                 256939 non-null category\n",
      "annual_inc                     256939 non-null float64\n",
      "verification_status            256939 non-null category\n",
      "loan_status                    256939 non-null category\n",
      "pymnt_plan                     256939 non-null category\n",
      "dti                            256939 non-null float64\n",
      "delinq_2yrs                    256939 non-null float64\n",
      "earliest_cr_line               256939 non-null int64\n",
      "inq_last_6mths                 256939 non-null float64\n",
      "mths_since_last_delinq         256939 non-null float64\n",
      "mths_since_last_record         256939 non-null float64\n",
      "open_acc                       256939 non-null float64\n",
      "pub_rec                        256939 non-null float64\n",
      "revol_bal                      256939 non-null float64\n",
      "revol_util                     256699 non-null float64\n",
      "total_acc                      256939 non-null float64\n",
      "out_prncp                      256939 non-null float64\n",
      "out_prncp_inv                  256939 non-null float64\n",
      "total_pymnt                    256939 non-null float64\n",
      "total_pymnt_inv                256939 non-null float64\n",
      "total_rec_prncp                256939 non-null float64\n",
      "total_rec_int                  256939 non-null float64\n",
      "total_rec_late_fee             256939 non-null float64\n",
      "recoveries                     256939 non-null float64\n",
      "collection_recovery_fee        256939 non-null float64\n",
      "last_pymnt_amnt                256939 non-null float64\n",
      "collections_12_mths_ex_med     256939 non-null float64\n",
      "mths_since_last_major_derog    256939 non-null float64\n",
      "acc_now_delinq                 256939 non-null float64\n",
      "tot_coll_amt                   256939 non-null float64\n",
      "tot_cur_bal                    256939 non-null float64\n",
      "open_acc_6m                    256939 non-null float64\n",
      "open_il_6m                     256939 non-null float64\n",
      "open_il_12m                    256939 non-null float64\n",
      "open_il_24m                    256939 non-null float64\n",
      "mths_since_rcnt_il             256939 non-null float64\n",
      "total_bal_il                   256939 non-null float64\n",
      "il_util                        256939 non-null float64\n",
      "open_rv_12m                    256939 non-null float64\n",
      "open_rv_24m                    256939 non-null float64\n",
      "max_bal_bc                     256939 non-null float64\n",
      "all_util                       256939 non-null float64\n",
      "total_rev_hi_lim               256939 non-null float64\n",
      "inq_fi                         256939 non-null float64\n",
      "total_cu_tl                    256939 non-null float64\n",
      "inq_last_12m                   256939 non-null float64\n",
      "dtypes: category(7), float64(44), int64(2)\n",
      "memory usage: 93.9 MB\n"
     ]
    }
   ],
   "source": [
    "df.info()"
   ]
  },
  {
   "cell_type": "code",
   "execution_count": 541,
   "metadata": {},
   "outputs": [
    {
     "data": {
      "text/html": [
       "<div>\n",
       "<style>\n",
       "    .dataframe thead tr:only-child th {\n",
       "        text-align: right;\n",
       "    }\n",
       "\n",
       "    .dataframe thead th {\n",
       "        text-align: left;\n",
       "    }\n",
       "\n",
       "    .dataframe tbody tr th {\n",
       "        vertical-align: top;\n",
       "    }\n",
       "</style>\n",
       "<table border=\"1\" class=\"dataframe\">\n",
       "  <thead>\n",
       "    <tr style=\"text-align: right;\">\n",
       "      <th></th>\n",
       "      <th>loan_status</th>\n",
       "      <th>pymnt_plan</th>\n",
       "      <th>dti</th>\n",
       "      <th>delinq_2yrs</th>\n",
       "      <th>earliest_cr_line</th>\n",
       "      <th>inq_last_6mths</th>\n",
       "      <th>mths_since_last_delinq</th>\n",
       "      <th>mths_since_last_record</th>\n",
       "      <th>open_acc</th>\n",
       "      <th>pub_rec</th>\n",
       "    </tr>\n",
       "    <tr>\n",
       "      <th>id</th>\n",
       "      <th></th>\n",
       "      <th></th>\n",
       "      <th></th>\n",
       "      <th></th>\n",
       "      <th></th>\n",
       "      <th></th>\n",
       "      <th></th>\n",
       "      <th></th>\n",
       "      <th></th>\n",
       "      <th></th>\n",
       "    </tr>\n",
       "  </thead>\n",
       "  <tbody>\n",
       "    <tr>\n",
       "      <th>1077501</th>\n",
       "      <td>0</td>\n",
       "      <td>0</td>\n",
       "      <td>27.65</td>\n",
       "      <td>0.0</td>\n",
       "      <td>473385600000000000</td>\n",
       "      <td>1.0</td>\n",
       "      <td>0.0</td>\n",
       "      <td>0.0</td>\n",
       "      <td>3.0</td>\n",
       "      <td>0.0</td>\n",
       "    </tr>\n",
       "    <tr>\n",
       "      <th>1077430</th>\n",
       "      <td>1</td>\n",
       "      <td>0</td>\n",
       "      <td>1.00</td>\n",
       "      <td>0.0</td>\n",
       "      <td>922924800000000000</td>\n",
       "      <td>5.0</td>\n",
       "      <td>0.0</td>\n",
       "      <td>0.0</td>\n",
       "      <td>3.0</td>\n",
       "      <td>0.0</td>\n",
       "    </tr>\n",
       "    <tr>\n",
       "      <th>1077175</th>\n",
       "      <td>0</td>\n",
       "      <td>0</td>\n",
       "      <td>8.72</td>\n",
       "      <td>0.0</td>\n",
       "      <td>1004572800000000000</td>\n",
       "      <td>2.0</td>\n",
       "      <td>0.0</td>\n",
       "      <td>0.0</td>\n",
       "      <td>2.0</td>\n",
       "      <td>0.0</td>\n",
       "    </tr>\n",
       "    <tr>\n",
       "      <th>1076863</th>\n",
       "      <td>0</td>\n",
       "      <td>0</td>\n",
       "      <td>20.00</td>\n",
       "      <td>0.0</td>\n",
       "      <td>823132800000000000</td>\n",
       "      <td>1.0</td>\n",
       "      <td>35.0</td>\n",
       "      <td>0.0</td>\n",
       "      <td>10.0</td>\n",
       "      <td>0.0</td>\n",
       "    </tr>\n",
       "    <tr>\n",
       "      <th>1075269</th>\n",
       "      <td>0</td>\n",
       "      <td>0</td>\n",
       "      <td>11.20</td>\n",
       "      <td>0.0</td>\n",
       "      <td>1099267200000000000</td>\n",
       "      <td>3.0</td>\n",
       "      <td>0.0</td>\n",
       "      <td>0.0</td>\n",
       "      <td>9.0</td>\n",
       "      <td>0.0</td>\n",
       "    </tr>\n",
       "  </tbody>\n",
       "</table>\n",
       "</div>"
      ],
      "text/plain": [
       "        loan_status pymnt_plan    dti  delinq_2yrs     earliest_cr_line  \\\n",
       "id                                                                        \n",
       "1077501           0          0  27.65          0.0   473385600000000000   \n",
       "1077430           1          0   1.00          0.0   922924800000000000   \n",
       "1077175           0          0   8.72          0.0  1004572800000000000   \n",
       "1076863           0          0  20.00          0.0   823132800000000000   \n",
       "1075269           0          0  11.20          0.0  1099267200000000000   \n",
       "\n",
       "         inq_last_6mths  mths_since_last_delinq  mths_since_last_record  \\\n",
       "id                                                                        \n",
       "1077501             1.0                     0.0                     0.0   \n",
       "1077430             5.0                     0.0                     0.0   \n",
       "1077175             2.0                     0.0                     0.0   \n",
       "1076863             1.0                    35.0                     0.0   \n",
       "1075269             3.0                     0.0                     0.0   \n",
       "\n",
       "         open_acc  pub_rec  \n",
       "id                          \n",
       "1077501       3.0      0.0  \n",
       "1077430       3.0      0.0  \n",
       "1077175       2.0      0.0  \n",
       "1076863      10.0      0.0  \n",
       "1075269       9.0      0.0  "
      ]
     },
     "execution_count": 541,
     "metadata": {},
     "output_type": "execute_result"
    }
   ],
   "source": [
    "df.iloc[:, 10:20].head()"
   ]
  },
  {
   "cell_type": "code",
   "execution_count": 542,
   "metadata": {},
   "outputs": [
    {
     "data": {
      "text/html": [
       "<div>\n",
       "<style>\n",
       "    .dataframe thead tr:only-child th {\n",
       "        text-align: right;\n",
       "    }\n",
       "\n",
       "    .dataframe thead th {\n",
       "        text-align: left;\n",
       "    }\n",
       "\n",
       "    .dataframe tbody tr th {\n",
       "        vertical-align: top;\n",
       "    }\n",
       "</style>\n",
       "<table border=\"1\" class=\"dataframe\">\n",
       "  <thead>\n",
       "    <tr style=\"text-align: right;\">\n",
       "      <th></th>\n",
       "      <th>revol_util</th>\n",
       "      <th>total_acc</th>\n",
       "      <th>out_prncp</th>\n",
       "      <th>out_prncp_inv</th>\n",
       "      <th>total_pymnt</th>\n",
       "      <th>total_pymnt_inv</th>\n",
       "      <th>total_rec_prncp</th>\n",
       "      <th>total_rec_int</th>\n",
       "      <th>total_rec_late_fee</th>\n",
       "    </tr>\n",
       "    <tr>\n",
       "      <th>id</th>\n",
       "      <th></th>\n",
       "      <th></th>\n",
       "      <th></th>\n",
       "      <th></th>\n",
       "      <th></th>\n",
       "      <th></th>\n",
       "      <th></th>\n",
       "      <th></th>\n",
       "      <th></th>\n",
       "    </tr>\n",
       "  </thead>\n",
       "  <tbody>\n",
       "    <tr>\n",
       "      <th>1077501</th>\n",
       "      <td>83.7</td>\n",
       "      <td>9.0</td>\n",
       "      <td>0.0</td>\n",
       "      <td>0.0</td>\n",
       "      <td>5861.071414</td>\n",
       "      <td>5831.78</td>\n",
       "      <td>5000.00</td>\n",
       "      <td>861.07</td>\n",
       "      <td>0.00</td>\n",
       "    </tr>\n",
       "    <tr>\n",
       "      <th>1077430</th>\n",
       "      <td>9.4</td>\n",
       "      <td>4.0</td>\n",
       "      <td>0.0</td>\n",
       "      <td>0.0</td>\n",
       "      <td>1008.710000</td>\n",
       "      <td>1008.71</td>\n",
       "      <td>456.46</td>\n",
       "      <td>435.17</td>\n",
       "      <td>0.00</td>\n",
       "    </tr>\n",
       "    <tr>\n",
       "      <th>1077175</th>\n",
       "      <td>98.5</td>\n",
       "      <td>10.0</td>\n",
       "      <td>0.0</td>\n",
       "      <td>0.0</td>\n",
       "      <td>3003.653644</td>\n",
       "      <td>3003.65</td>\n",
       "      <td>2400.00</td>\n",
       "      <td>603.65</td>\n",
       "      <td>0.00</td>\n",
       "    </tr>\n",
       "    <tr>\n",
       "      <th>1076863</th>\n",
       "      <td>21.0</td>\n",
       "      <td>37.0</td>\n",
       "      <td>0.0</td>\n",
       "      <td>0.0</td>\n",
       "      <td>12226.302212</td>\n",
       "      <td>12226.30</td>\n",
       "      <td>10000.00</td>\n",
       "      <td>2209.33</td>\n",
       "      <td>16.97</td>\n",
       "    </tr>\n",
       "    <tr>\n",
       "      <th>1075269</th>\n",
       "      <td>28.3</td>\n",
       "      <td>12.0</td>\n",
       "      <td>0.0</td>\n",
       "      <td>0.0</td>\n",
       "      <td>5631.377753</td>\n",
       "      <td>5631.38</td>\n",
       "      <td>5000.00</td>\n",
       "      <td>631.38</td>\n",
       "      <td>0.00</td>\n",
       "    </tr>\n",
       "  </tbody>\n",
       "</table>\n",
       "</div>"
      ],
      "text/plain": [
       "         revol_util  total_acc  out_prncp  out_prncp_inv   total_pymnt  \\\n",
       "id                                                                       \n",
       "1077501        83.7        9.0        0.0            0.0   5861.071414   \n",
       "1077430         9.4        4.0        0.0            0.0   1008.710000   \n",
       "1077175        98.5       10.0        0.0            0.0   3003.653644   \n",
       "1076863        21.0       37.0        0.0            0.0  12226.302212   \n",
       "1075269        28.3       12.0        0.0            0.0   5631.377753   \n",
       "\n",
       "         total_pymnt_inv  total_rec_prncp  total_rec_int  total_rec_late_fee  \n",
       "id                                                                            \n",
       "1077501          5831.78          5000.00         861.07                0.00  \n",
       "1077430          1008.71           456.46         435.17                0.00  \n",
       "1077175          3003.65          2400.00         603.65                0.00  \n",
       "1076863         12226.30         10000.00        2209.33               16.97  \n",
       "1075269          5631.38          5000.00         631.38                0.00  "
      ]
     },
     "execution_count": 542,
     "metadata": {},
     "output_type": "execute_result"
    }
   ],
   "source": [
    "df.iloc[:, 21:30].head()"
   ]
  },
  {
   "cell_type": "code",
   "execution_count": 543,
   "metadata": {},
   "outputs": [
    {
     "data": {
      "text/html": [
       "<div>\n",
       "<style>\n",
       "    .dataframe thead tr:only-child th {\n",
       "        text-align: right;\n",
       "    }\n",
       "\n",
       "    .dataframe thead th {\n",
       "        text-align: left;\n",
       "    }\n",
       "\n",
       "    .dataframe tbody tr th {\n",
       "        vertical-align: top;\n",
       "    }\n",
       "</style>\n",
       "<table border=\"1\" class=\"dataframe\">\n",
       "  <thead>\n",
       "    <tr style=\"text-align: right;\">\n",
       "      <th></th>\n",
       "      <th>collection_recovery_fee</th>\n",
       "      <th>last_pymnt_amnt</th>\n",
       "      <th>collections_12_mths_ex_med</th>\n",
       "      <th>mths_since_last_major_derog</th>\n",
       "      <th>acc_now_delinq</th>\n",
       "      <th>tot_coll_amt</th>\n",
       "      <th>tot_cur_bal</th>\n",
       "      <th>open_acc_6m</th>\n",
       "      <th>open_il_6m</th>\n",
       "    </tr>\n",
       "    <tr>\n",
       "      <th>id</th>\n",
       "      <th></th>\n",
       "      <th></th>\n",
       "      <th></th>\n",
       "      <th></th>\n",
       "      <th></th>\n",
       "      <th></th>\n",
       "      <th></th>\n",
       "      <th></th>\n",
       "      <th></th>\n",
       "    </tr>\n",
       "  </thead>\n",
       "  <tbody>\n",
       "    <tr>\n",
       "      <th>1077501</th>\n",
       "      <td>0.00</td>\n",
       "      <td>171.62</td>\n",
       "      <td>0.0</td>\n",
       "      <td>0.0</td>\n",
       "      <td>0.0</td>\n",
       "      <td>0.0</td>\n",
       "      <td>0.0</td>\n",
       "      <td>0.0</td>\n",
       "      <td>0.0</td>\n",
       "    </tr>\n",
       "    <tr>\n",
       "      <th>1077430</th>\n",
       "      <td>1.11</td>\n",
       "      <td>119.66</td>\n",
       "      <td>0.0</td>\n",
       "      <td>0.0</td>\n",
       "      <td>0.0</td>\n",
       "      <td>0.0</td>\n",
       "      <td>0.0</td>\n",
       "      <td>0.0</td>\n",
       "      <td>0.0</td>\n",
       "    </tr>\n",
       "    <tr>\n",
       "      <th>1077175</th>\n",
       "      <td>0.00</td>\n",
       "      <td>649.91</td>\n",
       "      <td>0.0</td>\n",
       "      <td>0.0</td>\n",
       "      <td>0.0</td>\n",
       "      <td>0.0</td>\n",
       "      <td>0.0</td>\n",
       "      <td>0.0</td>\n",
       "      <td>0.0</td>\n",
       "    </tr>\n",
       "    <tr>\n",
       "      <th>1076863</th>\n",
       "      <td>0.00</td>\n",
       "      <td>357.48</td>\n",
       "      <td>0.0</td>\n",
       "      <td>0.0</td>\n",
       "      <td>0.0</td>\n",
       "      <td>0.0</td>\n",
       "      <td>0.0</td>\n",
       "      <td>0.0</td>\n",
       "      <td>0.0</td>\n",
       "    </tr>\n",
       "    <tr>\n",
       "      <th>1075269</th>\n",
       "      <td>0.00</td>\n",
       "      <td>161.03</td>\n",
       "      <td>0.0</td>\n",
       "      <td>0.0</td>\n",
       "      <td>0.0</td>\n",
       "      <td>0.0</td>\n",
       "      <td>0.0</td>\n",
       "      <td>0.0</td>\n",
       "      <td>0.0</td>\n",
       "    </tr>\n",
       "  </tbody>\n",
       "</table>\n",
       "</div>"
      ],
      "text/plain": [
       "         collection_recovery_fee  last_pymnt_amnt  collections_12_mths_ex_med  \\\n",
       "id                                                                              \n",
       "1077501                     0.00           171.62                         0.0   \n",
       "1077430                     1.11           119.66                         0.0   \n",
       "1077175                     0.00           649.91                         0.0   \n",
       "1076863                     0.00           357.48                         0.0   \n",
       "1075269                     0.00           161.03                         0.0   \n",
       "\n",
       "         mths_since_last_major_derog  acc_now_delinq  tot_coll_amt  \\\n",
       "id                                                                   \n",
       "1077501                          0.0             0.0           0.0   \n",
       "1077430                          0.0             0.0           0.0   \n",
       "1077175                          0.0             0.0           0.0   \n",
       "1076863                          0.0             0.0           0.0   \n",
       "1075269                          0.0             0.0           0.0   \n",
       "\n",
       "         tot_cur_bal  open_acc_6m  open_il_6m  \n",
       "id                                             \n",
       "1077501          0.0          0.0         0.0  \n",
       "1077430          0.0          0.0         0.0  \n",
       "1077175          0.0          0.0         0.0  \n",
       "1076863          0.0          0.0         0.0  \n",
       "1075269          0.0          0.0         0.0  "
      ]
     },
     "execution_count": 543,
     "metadata": {},
     "output_type": "execute_result"
    }
   ],
   "source": [
    "df.iloc[:, 31:40].head()"
   ]
  },
  {
   "cell_type": "code",
   "execution_count": 544,
   "metadata": {},
   "outputs": [
    {
     "data": {
      "text/html": [
       "<div>\n",
       "<style>\n",
       "    .dataframe thead tr:only-child th {\n",
       "        text-align: right;\n",
       "    }\n",
       "\n",
       "    .dataframe thead th {\n",
       "        text-align: left;\n",
       "    }\n",
       "\n",
       "    .dataframe tbody tr th {\n",
       "        vertical-align: top;\n",
       "    }\n",
       "</style>\n",
       "<table border=\"1\" class=\"dataframe\">\n",
       "  <thead>\n",
       "    <tr style=\"text-align: right;\">\n",
       "      <th></th>\n",
       "      <th>open_il_24m</th>\n",
       "      <th>mths_since_rcnt_il</th>\n",
       "      <th>total_bal_il</th>\n",
       "      <th>il_util</th>\n",
       "      <th>open_rv_12m</th>\n",
       "      <th>open_rv_24m</th>\n",
       "      <th>max_bal_bc</th>\n",
       "      <th>all_util</th>\n",
       "      <th>total_rev_hi_lim</th>\n",
       "      <th>inq_fi</th>\n",
       "      <th>total_cu_tl</th>\n",
       "    </tr>\n",
       "    <tr>\n",
       "      <th>id</th>\n",
       "      <th></th>\n",
       "      <th></th>\n",
       "      <th></th>\n",
       "      <th></th>\n",
       "      <th></th>\n",
       "      <th></th>\n",
       "      <th></th>\n",
       "      <th></th>\n",
       "      <th></th>\n",
       "      <th></th>\n",
       "      <th></th>\n",
       "    </tr>\n",
       "  </thead>\n",
       "  <tbody>\n",
       "    <tr>\n",
       "      <th>1077501</th>\n",
       "      <td>0.0</td>\n",
       "      <td>0.0</td>\n",
       "      <td>0.0</td>\n",
       "      <td>0.0</td>\n",
       "      <td>0.0</td>\n",
       "      <td>0.0</td>\n",
       "      <td>0.0</td>\n",
       "      <td>0.0</td>\n",
       "      <td>0.0</td>\n",
       "      <td>0.0</td>\n",
       "      <td>0.0</td>\n",
       "    </tr>\n",
       "    <tr>\n",
       "      <th>1077430</th>\n",
       "      <td>0.0</td>\n",
       "      <td>0.0</td>\n",
       "      <td>0.0</td>\n",
       "      <td>0.0</td>\n",
       "      <td>0.0</td>\n",
       "      <td>0.0</td>\n",
       "      <td>0.0</td>\n",
       "      <td>0.0</td>\n",
       "      <td>0.0</td>\n",
       "      <td>0.0</td>\n",
       "      <td>0.0</td>\n",
       "    </tr>\n",
       "    <tr>\n",
       "      <th>1077175</th>\n",
       "      <td>0.0</td>\n",
       "      <td>0.0</td>\n",
       "      <td>0.0</td>\n",
       "      <td>0.0</td>\n",
       "      <td>0.0</td>\n",
       "      <td>0.0</td>\n",
       "      <td>0.0</td>\n",
       "      <td>0.0</td>\n",
       "      <td>0.0</td>\n",
       "      <td>0.0</td>\n",
       "      <td>0.0</td>\n",
       "    </tr>\n",
       "    <tr>\n",
       "      <th>1076863</th>\n",
       "      <td>0.0</td>\n",
       "      <td>0.0</td>\n",
       "      <td>0.0</td>\n",
       "      <td>0.0</td>\n",
       "      <td>0.0</td>\n",
       "      <td>0.0</td>\n",
       "      <td>0.0</td>\n",
       "      <td>0.0</td>\n",
       "      <td>0.0</td>\n",
       "      <td>0.0</td>\n",
       "      <td>0.0</td>\n",
       "    </tr>\n",
       "    <tr>\n",
       "      <th>1075269</th>\n",
       "      <td>0.0</td>\n",
       "      <td>0.0</td>\n",
       "      <td>0.0</td>\n",
       "      <td>0.0</td>\n",
       "      <td>0.0</td>\n",
       "      <td>0.0</td>\n",
       "      <td>0.0</td>\n",
       "      <td>0.0</td>\n",
       "      <td>0.0</td>\n",
       "      <td>0.0</td>\n",
       "      <td>0.0</td>\n",
       "    </tr>\n",
       "  </tbody>\n",
       "</table>\n",
       "</div>"
      ],
      "text/plain": [
       "         open_il_24m  mths_since_rcnt_il  total_bal_il  il_util  open_rv_12m  \\\n",
       "id                                                                             \n",
       "1077501          0.0                 0.0           0.0      0.0          0.0   \n",
       "1077430          0.0                 0.0           0.0      0.0          0.0   \n",
       "1077175          0.0                 0.0           0.0      0.0          0.0   \n",
       "1076863          0.0                 0.0           0.0      0.0          0.0   \n",
       "1075269          0.0                 0.0           0.0      0.0          0.0   \n",
       "\n",
       "         open_rv_24m  max_bal_bc  all_util  total_rev_hi_lim  inq_fi  \\\n",
       "id                                                                     \n",
       "1077501          0.0         0.0       0.0               0.0     0.0   \n",
       "1077430          0.0         0.0       0.0               0.0     0.0   \n",
       "1077175          0.0         0.0       0.0               0.0     0.0   \n",
       "1076863          0.0         0.0       0.0               0.0     0.0   \n",
       "1075269          0.0         0.0       0.0               0.0     0.0   \n",
       "\n",
       "         total_cu_tl  \n",
       "id                    \n",
       "1077501          0.0  \n",
       "1077430          0.0  \n",
       "1077175          0.0  \n",
       "1076863          0.0  \n",
       "1075269          0.0  "
      ]
     },
     "execution_count": 544,
     "metadata": {},
     "output_type": "execute_result"
    }
   ],
   "source": [
    "df.iloc[:, 41:-1].head()"
   ]
  },
  {
   "cell_type": "code",
   "execution_count": 545,
   "metadata": {},
   "outputs": [
    {
     "name": "stdout",
     "output_type": "stream",
     "text": [
      "<class 'pandas.core.frame.DataFrame'>\n",
      "Int64Index: 256939 entries, 1077501 to 36260758\n",
      "Data columns (total 53 columns):\n",
      "funded_amnt                    256939 non-null float64\n",
      "term                           256939 non-null int64\n",
      "int_rate                       256939 non-null float64\n",
      "installment                    256939 non-null float64\n",
      "grade                          256939 non-null category\n",
      "sub_grade                      256939 non-null category\n",
      "emp_length                     256939 non-null category\n",
      "home_ownership                 256939 non-null category\n",
      "annual_inc                     256939 non-null float64\n",
      "verification_status            256939 non-null category\n",
      "loan_status                    256939 non-null category\n",
      "pymnt_plan                     256939 non-null category\n",
      "dti                            256939 non-null float64\n",
      "delinq_2yrs                    256939 non-null float64\n",
      "earliest_cr_line               256939 non-null int64\n",
      "inq_last_6mths                 256939 non-null float64\n",
      "mths_since_last_delinq         256939 non-null float64\n",
      "mths_since_last_record         256939 non-null float64\n",
      "open_acc                       256939 non-null float64\n",
      "pub_rec                        256939 non-null float64\n",
      "revol_bal                      256939 non-null float64\n",
      "revol_util                     256699 non-null float64\n",
      "total_acc                      256939 non-null float64\n",
      "out_prncp                      256939 non-null float64\n",
      "out_prncp_inv                  256939 non-null float64\n",
      "total_pymnt                    256939 non-null float64\n",
      "total_pymnt_inv                256939 non-null float64\n",
      "total_rec_prncp                256939 non-null float64\n",
      "total_rec_int                  256939 non-null float64\n",
      "total_rec_late_fee             256939 non-null float64\n",
      "recoveries                     256939 non-null float64\n",
      "collection_recovery_fee        256939 non-null float64\n",
      "last_pymnt_amnt                256939 non-null float64\n",
      "collections_12_mths_ex_med     256939 non-null float64\n",
      "mths_since_last_major_derog    256939 non-null float64\n",
      "acc_now_delinq                 256939 non-null float64\n",
      "tot_coll_amt                   256939 non-null float64\n",
      "tot_cur_bal                    256939 non-null float64\n",
      "open_acc_6m                    256939 non-null float64\n",
      "open_il_6m                     256939 non-null float64\n",
      "open_il_12m                    256939 non-null float64\n",
      "open_il_24m                    256939 non-null float64\n",
      "mths_since_rcnt_il             256939 non-null float64\n",
      "total_bal_il                   256939 non-null float64\n",
      "il_util                        256939 non-null float64\n",
      "open_rv_12m                    256939 non-null float64\n",
      "open_rv_24m                    256939 non-null float64\n",
      "max_bal_bc                     256939 non-null float64\n",
      "all_util                       256939 non-null float64\n",
      "total_rev_hi_lim               256939 non-null float64\n",
      "inq_fi                         256939 non-null float64\n",
      "total_cu_tl                    256939 non-null float64\n",
      "inq_last_12m                   256939 non-null float64\n",
      "dtypes: category(7), float64(44), int64(2)\n",
      "memory usage: 93.9 MB\n"
     ]
    }
   ],
   "source": [
    "df.info()"
   ]
  },
  {
   "cell_type": "code",
   "execution_count": 546,
   "metadata": {},
   "outputs": [
    {
     "data": {
      "text/plain": [
       "funded_amnt                      0\n",
       "term                             0\n",
       "int_rate                         0\n",
       "installment                      0\n",
       "grade                            0\n",
       "sub_grade                        0\n",
       "emp_length                       0\n",
       "home_ownership                   0\n",
       "annual_inc                       0\n",
       "verification_status              0\n",
       "loan_status                      0\n",
       "pymnt_plan                       0\n",
       "dti                              0\n",
       "delinq_2yrs                      0\n",
       "earliest_cr_line                 0\n",
       "inq_last_6mths                   0\n",
       "mths_since_last_delinq           0\n",
       "mths_since_last_record           0\n",
       "open_acc                         0\n",
       "pub_rec                          0\n",
       "revol_bal                        0\n",
       "revol_util                     240\n",
       "total_acc                        0\n",
       "out_prncp                        0\n",
       "out_prncp_inv                    0\n",
       "total_pymnt                      0\n",
       "total_pymnt_inv                  0\n",
       "total_rec_prncp                  0\n",
       "total_rec_int                    0\n",
       "total_rec_late_fee               0\n",
       "recoveries                       0\n",
       "collection_recovery_fee          0\n",
       "last_pymnt_amnt                  0\n",
       "collections_12_mths_ex_med       0\n",
       "mths_since_last_major_derog      0\n",
       "acc_now_delinq                   0\n",
       "tot_coll_amt                     0\n",
       "tot_cur_bal                      0\n",
       "open_acc_6m                      0\n",
       "open_il_6m                       0\n",
       "open_il_12m                      0\n",
       "open_il_24m                      0\n",
       "mths_since_rcnt_il               0\n",
       "total_bal_il                     0\n",
       "il_util                          0\n",
       "open_rv_12m                      0\n",
       "open_rv_24m                      0\n",
       "max_bal_bc                       0\n",
       "all_util                         0\n",
       "total_rev_hi_lim                 0\n",
       "inq_fi                           0\n",
       "total_cu_tl                      0\n",
       "inq_last_12m                     0\n",
       "dtype: int64"
      ]
     },
     "execution_count": 546,
     "metadata": {},
     "output_type": "execute_result"
    }
   ],
   "source": [
    "df.isnull().sum()"
   ]
  },
  {
   "cell_type": "code",
   "execution_count": 547,
   "metadata": {},
   "outputs": [
    {
     "data": {
      "text/plain": [
       "count    256699.000000\n",
       "mean         54.315684\n",
       "std          24.827559\n",
       "min           0.000000\n",
       "25%          36.200000\n",
       "50%          55.800000\n",
       "75%          73.900000\n",
       "max         892.300000\n",
       "Name: revol_util, dtype: float64"
      ]
     },
     "execution_count": 547,
     "metadata": {},
     "output_type": "execute_result"
    }
   ],
   "source": [
    "df.revol_util.describe()"
   ]
  },
  {
   "cell_type": "code",
   "execution_count": 548,
   "metadata": {
    "collapsed": true
   },
   "outputs": [],
   "source": [
    "# filling missing values with median values\n",
    "df.revol_util = df.revol_util.fillna(55.80)"
   ]
  },
  {
   "cell_type": "code",
   "execution_count": 549,
   "metadata": {},
   "outputs": [
    {
     "data": {
      "text/plain": [
       "count    256939.000000\n",
       "mean         54.317071\n",
       "std          24.816002\n",
       "min           0.000000\n",
       "25%          36.200000\n",
       "50%          55.800000\n",
       "75%          73.900000\n",
       "max         892.300000\n",
       "Name: revol_util, dtype: float64"
      ]
     },
     "execution_count": 549,
     "metadata": {},
     "output_type": "execute_result"
    }
   ],
   "source": [
    "df.revol_util.describe()"
   ]
  },
  {
   "cell_type": "code",
   "execution_count": 550,
   "metadata": {},
   "outputs": [
    {
     "data": {
      "text/plain": [
       "funded_amnt                    0\n",
       "term                           0\n",
       "int_rate                       0\n",
       "installment                    0\n",
       "grade                          0\n",
       "sub_grade                      0\n",
       "emp_length                     0\n",
       "home_ownership                 0\n",
       "annual_inc                     0\n",
       "verification_status            0\n",
       "loan_status                    0\n",
       "pymnt_plan                     0\n",
       "dti                            0\n",
       "delinq_2yrs                    0\n",
       "earliest_cr_line               0\n",
       "inq_last_6mths                 0\n",
       "mths_since_last_delinq         0\n",
       "mths_since_last_record         0\n",
       "open_acc                       0\n",
       "pub_rec                        0\n",
       "revol_bal                      0\n",
       "revol_util                     0\n",
       "total_acc                      0\n",
       "out_prncp                      0\n",
       "out_prncp_inv                  0\n",
       "total_pymnt                    0\n",
       "total_pymnt_inv                0\n",
       "total_rec_prncp                0\n",
       "total_rec_int                  0\n",
       "total_rec_late_fee             0\n",
       "recoveries                     0\n",
       "collection_recovery_fee        0\n",
       "last_pymnt_amnt                0\n",
       "collections_12_mths_ex_med     0\n",
       "mths_since_last_major_derog    0\n",
       "acc_now_delinq                 0\n",
       "tot_coll_amt                   0\n",
       "tot_cur_bal                    0\n",
       "open_acc_6m                    0\n",
       "open_il_6m                     0\n",
       "open_il_12m                    0\n",
       "open_il_24m                    0\n",
       "mths_since_rcnt_il             0\n",
       "total_bal_il                   0\n",
       "il_util                        0\n",
       "open_rv_12m                    0\n",
       "open_rv_24m                    0\n",
       "max_bal_bc                     0\n",
       "all_util                       0\n",
       "total_rev_hi_lim               0\n",
       "inq_fi                         0\n",
       "total_cu_tl                    0\n",
       "inq_last_12m                   0\n",
       "dtype: int64"
      ]
     },
     "execution_count": 550,
     "metadata": {},
     "output_type": "execute_result"
    }
   ],
   "source": [
    "df.isnull().sum()"
   ]
  },
  {
   "cell_type": "markdown",
   "metadata": {},
   "source": [
    "### EDA"
   ]
  },
  {
   "cell_type": "code",
   "execution_count": 551,
   "metadata": {},
   "outputs": [
    {
     "data": {
      "image/png": "[encoded data removed]",
      "text/plain": [
       "<matplotlib.figure.Figure at 0x1bfcf0d940>"
      ]
     },
     "metadata": {},
     "output_type": "display_data"
    }
   ],
   "source": [
    "#I will start looking the funded_amnt column\n",
    "\n",
    "fig, ax=plt.subplots(1,2,figsize=(12,7))\n",
    "\n",
    "sns.distplot(df['funded_amnt'],ax=ax[0])\n",
    "sns.violinplot(x='funded_amnt', data=df, ax=ax[1], \n",
    "               inner=\"quartile\", palette=\"Set2\")\n",
    "\n",
    "plt.show()"
   ]
  },
  {
   "cell_type": "markdown",
   "metadata": {},
   "source": [
    "### Model Building"
   ]
  },
  {
   "cell_type": "code",
   "execution_count": 552,
   "metadata": {
    "collapsed": true
   },
   "outputs": [],
   "source": [
    "from sklearn.model_selection import train_test_split\n",
    "from sklearn.linear_model import LogisticRegression\n",
    "from sklearn.ensemble import RandomForestClassifier\n",
    "from sklearn.metrics import confusion_matrix, classification_report\n",
    "from sklearn import metrics\n",
    "\n",
    "# setting up predictor variables\n",
    "X = df.drop('loan_status', axis=1)\n",
    "\n",
    "# setting up labels\n",
    "y = df.loan_status"
   ]
  },
  {
   "cell_type": "code",
   "execution_count": 553,
   "metadata": {
    "collapsed": true
   },
   "outputs": [],
   "source": [
    "# spliting our data into training and test tests\n",
    "X_train, X_test, y_train, y_test = train_test_split(X, y, test_size=0.33, random_state=21)"
   ]
  },
  {
   "cell_type": "markdown",
   "metadata": {},
   "source": [
    "#### Random Forest Classifier"
   ]
  },
  {
   "cell_type": "code",
   "execution_count": 554,
   "metadata": {},
   "outputs": [],
   "source": [
    "# Random Forest Classifier\n",
    "\n",
    "rf = RandomForestClassifier()\n",
    "rf.fit(X_train, y_train)\n",
    "\n",
    "pred = rf.predict(X_test)"
   ]
  },
  {
   "cell_type": "code",
   "execution_count": 555,
   "metadata": {},
   "outputs": [
    {
     "name": "stdout",
     "output_type": "stream",
     "text": [
      "Accuracy Score 0.996414671541\n",
      "[[69223     5]\n",
      " [  299 15263]]\n",
      "             precision    recall  f1-score   support\n",
      "\n",
      "          0       1.00      1.00      1.00     69228\n",
      "          1       1.00      0.98      0.99     15562\n",
      "\n",
      "avg / total       1.00      1.00      1.00     84790\n",
      "\n"
     ]
    }
   ],
   "source": [
    "# Compute and print the confusion matrix and classification report\n",
    "accuracy = rf.score(X_test, y_test)\n",
    "print('Accuracy Score', accuracy)\n",
    "print(confusion_matrix(y_test, pred))\n",
    "print(classification_report(y_test, pred))"
   ]
  },
  {
   "cell_type": "code",
   "execution_count": 556,
   "metadata": {},
   "outputs": [
    {
     "data": {
      "image/png": "[encoded data removed]",
      "text/plain": [
       "<matplotlib.figure.Figure at 0x1b7473b668>"
      ]
     },
     "metadata": {},
     "output_type": "display_data"
    }
   ],
   "source": [
    "# Import necessary modules\n",
    "from sklearn.metrics import roc_curve\n",
    "from sklearn.metrics import roc_auc_score\n",
    "\n",
    "# Compute predicted probabilities: y_pred_prob\n",
    "y_pred_prob = rf.predict_proba(X_test)[:,1]\n",
    "\n",
    "# Generate ROC curve values: fpr, tpr, thresholds\n",
    "fpr, tpr, thresholds = roc_curve(y_test, y_pred_prob)\n",
    "\n",
    "# Plot ROC curve\n",
    "plt.plot([0, 1], [0, 1], 'k--')\n",
    "plt.plot(fpr, tpr)\n",
    "plt.xlabel('False Positive Rate')\n",
    "plt.ylabel('True Positive Rate')\n",
    "plt.title('ROC Curve')\n",
    "plt.show()"
   ]
  },
  {
   "cell_type": "code",
   "execution_count": 564,
   "metadata": {},
   "outputs": [
    {
     "data": {
      "text/html": [
       "<div>\n",
       "<style>\n",
       "    .dataframe thead tr:only-child th {\n",
       "        text-align: right;\n",
       "    }\n",
       "\n",
       "    .dataframe thead th {\n",
       "        text-align: left;\n",
       "    }\n",
       "\n",
       "    .dataframe tbody tr th {\n",
       "        vertical-align: top;\n",
       "    }\n",
       "</style>\n",
       "<table border=\"1\" class=\"dataframe\">\n",
       "  <thead>\n",
       "    <tr style=\"text-align: right;\">\n",
       "      <th></th>\n",
       "      <th>features</th>\n",
       "      <th>importance</th>\n",
       "    </tr>\n",
       "  </thead>\n",
       "  <tbody>\n",
       "    <tr>\n",
       "      <th>29</th>\n",
       "      <td>recoveries</td>\n",
       "      <td>0.196586</td>\n",
       "    </tr>\n",
       "    <tr>\n",
       "      <th>30</th>\n",
       "      <td>collection_recovery_fee</td>\n",
       "      <td>0.153424</td>\n",
       "    </tr>\n",
       "    <tr>\n",
       "      <th>24</th>\n",
       "      <td>total_pymnt</td>\n",
       "      <td>0.141504</td>\n",
       "    </tr>\n",
       "    <tr>\n",
       "      <th>26</th>\n",
       "      <td>total_rec_prncp</td>\n",
       "      <td>0.141171</td>\n",
       "    </tr>\n",
       "    <tr>\n",
       "      <th>0</th>\n",
       "      <td>funded_amnt</td>\n",
       "      <td>0.079624</td>\n",
       "    </tr>\n",
       "    <tr>\n",
       "      <th>31</th>\n",
       "      <td>last_pymnt_amnt</td>\n",
       "      <td>0.071443</td>\n",
       "    </tr>\n",
       "    <tr>\n",
       "      <th>3</th>\n",
       "      <td>installment</td>\n",
       "      <td>0.055682</td>\n",
       "    </tr>\n",
       "    <tr>\n",
       "      <th>25</th>\n",
       "      <td>total_pymnt_inv</td>\n",
       "      <td>0.044804</td>\n",
       "    </tr>\n",
       "    <tr>\n",
       "      <th>27</th>\n",
       "      <td>total_rec_int</td>\n",
       "      <td>0.034419</td>\n",
       "    </tr>\n",
       "    <tr>\n",
       "      <th>2</th>\n",
       "      <td>int_rate</td>\n",
       "      <td>0.017179</td>\n",
       "    </tr>\n",
       "  </tbody>\n",
       "</table>\n",
       "</div>"
      ],
      "text/plain": [
       "                   features  importance\n",
       "29               recoveries    0.196586\n",
       "30  collection_recovery_fee    0.153424\n",
       "24              total_pymnt    0.141504\n",
       "26          total_rec_prncp    0.141171\n",
       "0               funded_amnt    0.079624\n",
       "31          last_pymnt_amnt    0.071443\n",
       "3               installment    0.055682\n",
       "25          total_pymnt_inv    0.044804\n",
       "27            total_rec_int    0.034419\n",
       "2                  int_rate    0.017179"
      ]
     },
     "execution_count": 564,
     "metadata": {},
     "output_type": "execute_result"
    }
   ],
   "source": [
    "# feature importance\n",
    "rf_features = pd.DataFrame({'features': X.columns, 'importance': \n",
    "                            rf.feature_importances_})[['features', 'importance']]\n",
    "\n",
    "# top 10 most predictive features\n",
    "rf_features.sort_values('importance', ascending=False)[:10]"
   ]
  },
  {
   "cell_type": "markdown",
   "metadata": {},
   "source": [
    "#### Logistic Regression"
   ]
  },
  {
   "cell_type": "code",
   "execution_count": 558,
   "metadata": {},
   "outputs": [
    {
     "name": "stdout",
     "output_type": "stream",
     "text": [
      "Accuracy Score 0.815096119825\n",
      "[[69055   173]\n",
      " [15505    57]]\n",
      "             precision    recall  f1-score   support\n",
      "\n",
      "          0       0.82      1.00      0.90     69228\n",
      "          1       0.25      0.00      0.01     15562\n",
      "\n",
      "avg / total       0.71      0.82      0.73     84790\n",
      "\n"
     ]
    }
   ],
   "source": [
    "# Create the classifier: logreg\n",
    "logreg = LogisticRegression()\n",
    "\n",
    "# Fit the classifier to the training data\n",
    "logreg.fit(X_train, y_train)\n",
    "\n",
    "# Predict the labels of the test set: y_pred\n",
    "y_pred = logreg.predict(X_test)\n",
    "\n",
    "# Compute and print the confusion matrix and classification report\n",
    "print('Accuracy Score', logreg.score(X_test, y_test))\n",
    "print(confusion_matrix(y_test, y_pred))\n",
    "print(classification_report(y_test, y_pred))"
   ]
  },
  {
   "cell_type": "code",
   "execution_count": 559,
   "metadata": {},
   "outputs": [
    {
     "data": {
      "image/png": "[encoded data removed]",
      "text/plain": [
       "<matplotlib.figure.Figure at 0x1b25b050b8>"
      ]
     },
     "metadata": {},
     "output_type": "display_data"
    }
   ],
   "source": [
    "# Compute predicted probabilities: y_pred_prob\n",
    "y_pred_prob = logreg.predict_proba(X_test)[:,1]\n",
    "\n",
    "# Generate ROC curve values: fpr, tpr, thresholds\n",
    "fpr, tpr, thresholds = roc_curve(y_test, y_pred_prob)\n",
    "\n",
    "# Plot ROC curve\n",
    "plt.plot([0, 1], [0, 1], 'k--')\n",
    "plt.plot(fpr, tpr)\n",
    "plt.xlabel('False Positive Rate')\n",
    "plt.ylabel('True Positive Rate')\n",
    "plt.title('ROC Curve')\n",
    "plt.show()"
   ]
  },
  {
   "cell_type": "code",
   "execution_count": 565,
   "metadata": {},
   "outputs": [
    {
     "name": "stderr",
     "output_type": "stream",
     "text": [
      "/anaconda3/lib/python3.6/site-packages/sklearn/utils/deprecation.py:77: DeprecationWarning: Function _ratio_float is deprecated; Use a float for 'ratio' is deprecated from version 0.2. The support will be removed in 0.4. Use a dict, str, or a callable instead.\n",
      "  warnings.warn(msg, category=DeprecationWarning)\n"
     ]
    },
    {
     "name": "stdout",
     "output_type": "stream",
     "text": [
      "[[  179 69049]\n",
      " [   62 15500]]\n",
      "             precision    recall  f1-score   support\n",
      "\n",
      "          0       0.74      0.00      0.01     69228\n",
      "          1       0.18      1.00      0.31     15562\n",
      "\n",
      "avg / total       0.64      0.18      0.06     84790\n",
      "\n"
     ]
    }
   ],
   "source": [
    "from imblearn.over_sampling import SMOTE\n",
    "\n",
    "sm = SMOTE(random_state=12, ratio = 1.0)\n",
    "x_train_res, y_train_res = sm.fit_sample(X_train, y_train)\n",
    "\n",
    "logreg.fit(x_train_res, y_train_res)\n",
    "\n",
    "# Predict the labels of the test set: y_pred\n",
    "y_pred = logreg.predict(X_test)\n",
    "\n",
    "# Compute and print the confusion matrix and classification report\n",
    "print(confusion_matrix(y_test, y_pred))\n",
    "print(classification_report(y_test, y_pred))"
   ]
  },
  {
   "cell_type": "code",
   "execution_count": 568,
   "metadata": {},
   "outputs": [
    {
     "name": "stdout",
     "output_type": "stream",
     "text": [
      "Train on 179857 samples, validate on 77082 samples\n",
      "Epoch 1/20\n",
      "179857/179857 [==============================] - 28s 157us/step - loss: 4.2288 - acc: 0.7376 - val_loss: 2.9517 - val_acc: 0.8169\n",
      "Epoch 2/20\n",
      "179857/179857 [==============================] - 27s 153us/step - loss: 2.9674 - acc: 0.8159 - val_loss: 2.9517 - val_acc: 0.8169\n",
      "Epoch 3/20\n",
      "179857/179857 [==============================] - 27s 150us/step - loss: 2.9674 - acc: 0.8159 - val_loss: 2.9517 - val_acc: 0.8169\n"
     ]
    },
    {
     "data": {
      "text/plain": [
       "<keras.callbacks.History at 0x1c445422e8>"
      ]
     },
     "execution_count": 568,
     "metadata": {},
     "output_type": "execute_result"
    }
   ],
   "source": [
    "# Import necessary modules\n",
    "import keras\n",
    "from keras.layers import Dense\n",
    "from keras.models import Sequential\n",
    "from keras.utils import to_categorical\n",
    "from keras.callbacks import EarlyStopping\n",
    "\n",
    "# Save the number of columns in predictors: n_cols\n",
    "n_cols = X.shape[1]\n",
    "\n",
    "early_stopping_monitor = EarlyStopping(patience=2)\n",
    "\n",
    "# Set up predictor and target variables\n",
    "predictors = np.array(X)\n",
    "target = to_categorical(y)\n",
    "\n",
    "# Set up the model\n",
    "model = Sequential()\n",
    "\n",
    "# Add the layers\n",
    "model.add(Dense(26, activation='relu', input_shape=(n_cols,), kernel_initializer='uniform'))\n",
    "model.add(Dense(16, activation='relu', kernel_initializer='uniform'))\n",
    "#model.add(Dense(1, activation='sigmo', kernel_initializer='uniform'))\n",
    "\n",
    "\n",
    "# Add the output layer\n",
    "model.add(Dense(2, activation='softmax', kernel_initializer='uniform'))\n",
    "\n",
    "# Compile the model\n",
    "model.compile(optimizer='adam', loss='categorical_crossentropy', metrics=['accuracy'])\n",
    "\n",
    "# Fit the model\n",
    "model.fit(predictors, target, validation_split=0.3,\n",
    "          epochs=20, callbacks = [early_stopping_monitor])"
   ]
  },
  {
   "cell_type": "code",
   "execution_count": null,
   "metadata": {
    "collapsed": true
   },
   "outputs": [],
   "source": []
  }
 ],
 "metadata": {
  "kernelspec": {
   "display_name": "Python 3",
   "language": "python",
   "name": "python3"
  },
  "language_info": {
   "codemirror_mode": {
    "name": "ipython",
    "version": 3
   },
   "file_extension": ".py",
   "mimetype": "text/x-python",
   "name": "python",
   "nbconvert_exporter": "python",
   "pygments_lexer": "ipython3",
   "version": "3.6.3"
  }
 },
 "nbformat": 4,
 "nbformat_minor": 2
}
